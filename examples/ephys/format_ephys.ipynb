{
 "cells": [
  {
   "cell_type": "code",
   "execution_count": 1,
   "id": "d7cd0082-3ddb-429b-bec2-78c69518a16a",
   "metadata": {},
   "outputs": [],
   "source": [
    "import os\n",
    "\n",
    "import matplotlib.pyplot as plt\n",
    "import numpy as np\n",
    "import scipy.io as io\n",
    "\n",
    "import ephys_extractor as efex\n",
    "import ephys_features as ft"
   ]
  },
  {
   "cell_type": "code",
   "execution_count": 2,
   "id": "f8943d0f-05b9-4e76-bc98-17ae326783d1",
   "metadata": {},
   "outputs": [],
   "source": [
    "ephys_dir = '../data/scMNC/mouse_visual_cortex/raw_data/'\n",
    "ephys_names = []; ephys_data = []\n",
    "for root, _, files in os.walk(ephys_dir + 'ephys-patch-seq'):\n",
    "    if files:\n",
    "        for file in files:\n",
    "            ephys_names.append(file)\n",
    "            ephys_data.append(io.loadmat(os.path.join(root, file)))"
   ]
  },
  {
   "cell_type": "code",
   "execution_count": 3,
   "id": "2ecf39fb-49af-43f9-bb7c-6ac13c00bbff",
   "metadata": {},
   "outputs": [],
   "source": [
    "# https://github.com/berenslab/layer4/blob/master/ephys/GetFeaturesPipelineL4.ipynb\n",
    "def data_preparation(data, el_num = 2, current_step = 20):\n",
    "    \"\"\"Analyse the data in dictionary format (assumes a certain outlook of the data) and return the voltage traces, \n",
    "    stimulus current magnitudes for all traces, the time and the current index for which the current magnitude equals 0 pA.\n",
    "\n",
    "    Parameters\n",
    "    ----------\n",
    "    data : dictionary full of voltage (V) and time (s) traces\n",
    "    el_num : integer, from which electrode number has been measured (optional, 2 by default)\n",
    "    current_step : float, which current step (pA) has been used between consecutive experiments (optional, 20 by default)\n",
    "    \n",
    "    Returns\n",
    "    -------\n",
    "    voltage : numpy 2D array of voltage traces (mV)\n",
    "    time : numpy 1D array of time points (s)\n",
    "    current : numpy 1D array of current stimulus magnitudes\n",
    "    curr_index_0 : integer of current index where the current = 0 pA\n",
    "    \"\"\"\n",
    "    \n",
    "    \n",
    "    \n",
    "    # All the keys in the dictionary should have the form \"Trace_1_j_c_el\" where j represents a certain number which could\n",
    "    # be different between cells/samples, therefore we will store this number as num. c represents the current stimulus\n",
    "    # magnitude index, el the electrode number. They usually always record from electrode number el = 2.\n",
    "    \n",
    "    # Random initialisations\n",
    "    num = 2\n",
    "    n_samp = 22500\n",
    "    dt = 4e-05\n",
    "    for key in list(data)[1:6]:\n",
    "        if key.split('_')[0] == \"Trace\":\n",
    "            num = key.split('_')[2]\n",
    "            n_samp = data[key].shape[0] # Amount of timepoints\n",
    "            dt = data[key][1, 0] - data[key][0, 0] # Time step\n",
    "            break\n",
    "    time = np.arange(0,n_samp*dt,dt)\n",
    "    \n",
    "    # We pick random voltage traces to look for the resting membrane voltage\n",
    "    Vm_tuple = []\n",
    "    \n",
    "    # Check whether we have hyperpolarisation in the beginning, otherwise the electrode where spikes have been recorded must have\n",
    "    # been a different one\n",
    "    object_ephys = efex.EphysSweepFeatureExtractor(t = time, v = 1000*data['Trace_{}_{}_{}_{}'.format(1, num, 1, el_num)][:, 1], \\\n",
    "                                                   start = 0.1, end = 0.7, filter = 10)\n",
    "    voltage_deflection_v, _ = object_ephys.voltage_deflection()\n",
    "    Vm = object_ephys._get_baseline_voltage()\n",
    "    V_defl = voltage_deflection_v\n",
    "    if  np.abs(Vm - V_defl) < 2:\n",
    "        el_num = 1\n",
    "        while np.abs(Vm - V_defl) < 2:\n",
    "            object_ephys = efex.EphysSweepFeatureExtractor(t = time, v = 1000*data['Trace_{}_{}_{}_{}'.format(1, num, 1, el_num)][:, 1], \\\n",
    "                                                   start = 0.1, end = 0.7, filter = 10)\n",
    "            Vm = object_ephys._get_baseline_voltage()\n",
    "            V_defl, _ = object_ephys.voltage_deflection()\n",
    "            if el_num == 1:\n",
    "                el_num = 3\n",
    "            else: el_num += 1\n",
    "        el_num = el_num - 1\n",
    "    #for i in np.arange(1, 12, 1):\n",
    "    #    voltage_trace = data['Trace_1_{}_{}_{}'.format(num, i, el_num)][:, 1]\n",
    "    #    object_ephys = efex.EphysSweepFeatureExtractor(t = time, v = 1000*voltage_trace, start = 0.1, end = 0.7, filter = 10)\n",
    "    #    Vm = object_ephys._get_baseline_voltage()\n",
    "    #    Vm_tuple.append(Vm)\n",
    "    #Vm = np.mean(np.array(Vm_tuple))\n",
    "    \n",
    "\n",
    "    \n",
    "    Amount_Of_Electrodes = np.max([int(g.split('_')[-1]) if (g.split('_')[0] == 'Trace') else 0 for g in list(data.keys())])\n",
    "    \n",
    "    # stim_paradigm_num is the number of current stimulus magnitudes that were used\n",
    "    stim_paradigm_num = (np.array(list(data)).size - 3)/Amount_Of_Electrodes\n",
    "                                    # 3 keys should just be '__globals__', '__header__', and '__version__'\n",
    "    \n",
    "    curr_index_0 = 0 # Current stimulus magnitude index that corresponds to stimulating the cell with 0 pA\n",
    "    \n",
    "    # Trace with the least amount of variance in the trace is assumed to be the trace corresponding to stimulating the cell\n",
    "    # with 0 pA stimulation current\n",
    "    best = np.var(1000*data['Trace_1_{}_{}_{}'.format(num, 1, el_num)][:, 1])\n",
    "    #best = np.abs(np.mean(1000*data['Trace_1_{}_{}_{}'.format(num, 1, el_num)][:, 1]) - Vm)\n",
    "    for i in np.arange(2, stim_paradigm_num + 1, 1, dtype = 'int'):\n",
    "        best_temp = np.var(1000*data['Trace_1_{}_{}_{}'.format(num, i, el_num)][:, 1])\n",
    "        #best_temp = np.abs(np.mean(1000*data['Trace_1_{}_{}_{}'.format(num, i, el_num)][:, 1]) - Vm)\n",
    "        if  best_temp < best:\n",
    "            best = best_temp\n",
    "            curr_index_0 = i\n",
    "    \n",
    "    start_current_impulse = -(curr_index_0 - 1)*current_step # - 1 since in the dictionary we start at 1 (not at zero)    \n",
    "    stop_current_impulse = start_current_impulse + (current_step*stim_paradigm_num)\n",
    "    current = np.arange(start_current_impulse, stop_current_impulse, current_step)\n",
    "    \n",
    "    \n",
    "    # voltage will give us the voltage response for all different current steps\n",
    "    voltage = np.zeros((n_samp,len(current)))\n",
    "    # print('Starting current: ', current[0])\n",
    "    for c, C in enumerate(current):\n",
    "        voltage[:,c] = 1000*data['Trace_1_{}_{}_{}'.format(num, c+1, el_num)][:,1] # c+1: goes from 1 to end of possible current\n",
    "                                                                                   # stimulation magnitudes\n",
    "    \n",
    "    return time, current, voltage, (curr_index_0 - 1) # -1 since the current and voltage vector start at 0"
   ]
  },
  {
   "cell_type": "code",
   "execution_count": 24,
   "id": "b0bdf00b-d2ac-4382-908b-f911c5ba60a9",
   "metadata": {},
   "outputs": [],
   "source": [
    "base_time = data_preparation(ephys_data[0], el_num = 2)[0]\n",
    "crop = (np.argwhere(base_time >= .1)[0, 0], np.argwhere(base_time > .7)[0, 0])  # .1 to .7\n",
    "base_time = base_time[crop[0]:crop[1]]\n",
    "exp = []\n",
    "for i in range(len(ephys_data)):\n",
    "    # Pull data\n",
    "    time, current, voltage, curr_index_0 = data_preparation(ephys_data[i], el_num = 2)\n",
    "    time, voltage = time[crop[0]:crop[1]], voltage[crop[0]:crop[1]]\n",
    "    assert (time == base_time).all()\n",
    "    \n",
    "    # Add mean response\n",
    "    assert current.shape[0] == voltage.shape[1]\n",
    "    # print(f'Averaging over {voltage.shape[1]} sweeps')\n",
    "    for c, v in zip(current, voltage.T):\n",
    "        exp.append({'name': ephys_names[i], 'stim': c, 'resp': v})"
   ]
  },
  {
   "cell_type": "code",
   "execution_count": 25,
   "id": "dcd2b2c4-d85a-4eaa-a0f3-bc6fe4b5c17d",
   "metadata": {},
   "outputs": [
    {
     "data": {
      "image/png": "[encoded data removed]",
      "text/plain": [
       "<Figure size 432x288 with 1 Axes>"
      ]
     },
     "metadata": {
      "needs_background": "light"
     },
     "output_type": "display_data"
    }
   ],
   "source": [
    "idx = 15\n",
    "plt.plot(base_time, exp[idx]['resp'], 'k-')\n",
    "plt.title(f'Stimulus: {exp[idx][\"stim\"]}');"
   ]
  },
  {
   "cell_type": "code",
   "execution_count": 26,
   "id": "1f7231e6-ef58-4814-8e42-518fdd723413",
   "metadata": {},
   "outputs": [
    {
     "name": "stdout",
     "output_type": "stream",
     "text": [
      "Saving 8814 ephys sweeps...\n"
     ]
    }
   ],
   "source": [
    "print(f'Saving {len(exp)} ephys sweeps...')\n",
    "np.save(ephys_dir + 'exp.npy', exp)\n",
    "# np.load(ephys_dir + 'exp.npy', allow_pickle=True)"
   ]
  }
 ],
 "metadata": {
  "kernelspec": {
   "display_name": "Python 3 (ipykernel)",
   "language": "python",
   "name": "python3"
  },
  "language_info": {
   "codemirror_mode": {
    "name": "ipython",
    "version": 3
   },
   "file_extension": ".py",
   "mimetype": "text/x-python",
   "name": "python",
   "nbconvert_exporter": "python",
   "pygments_lexer": "ipython3",
   "version": "3.9.5"
  }
 },
 "nbformat": 4,
 "nbformat_minor": 5
}
