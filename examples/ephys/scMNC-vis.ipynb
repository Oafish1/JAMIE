{
 "cells": [
  {
   "cell_type": "code",
   "execution_count": 1,
   "id": "b452a752-37ed-4eda-9f5f-ffd8d52ff5f5",
   "metadata": {
    "tags": []
   },
   "outputs": [],
   "source": [
    "%load_ext autoreload\n",
    "%autoreload 2"
   ]
  },
  {
   "cell_type": "code",
   "execution_count": 2,
   "id": "511d6fa3-5f4a-4524-8a3a-e10d840c357b",
   "metadata": {
    "tags": []
   },
   "outputs": [
    {
     "name": "stderr",
     "output_type": "stream",
     "text": [
      "2022-10-27 14:35:40.627614: I tensorflow/core/platform/cpu_feature_guard.cc:193] This TensorFlow binary is optimized with oneAPI Deep Neural Network Library (oneDNN) to use the following CPU instructions in performance-critical operations:  AVX2 AVX512F AVX512_VNNI FMA\n",
      "To enable them in other operations, rebuild TensorFlow with the appropriate compiler flags.\n",
      "2022-10-27 14:35:40.708886: I tensorflow/core/util/util.cc:169] oneDNN custom operations are on. You may see slightly different numerical results due to floating-point round-off errors from different computation orders. To turn them off, set the environment variable `TF_ENABLE_ONEDNN_OPTS=0`.\n",
      "2022-10-27 14:35:40.712242: W tensorflow/stream_executor/platform/default/dso_loader.cc:64] Could not load dynamic library 'libcudart.so.11.0'; dlerror: libcudart.so.11.0: cannot open shared object file: No such file or directory\n",
      "2022-10-27 14:35:40.712254: I tensorflow/stream_executor/cuda/cudart_stub.cc:29] Ignore above cudart dlerror if you do not have a GPU set up on your machine.\n",
      "2022-10-27 14:35:40.728904: E tensorflow/stream_executor/cuda/cuda_blas.cc:2981] Unable to register cuBLAS factory: Attempting to register factory for plugin cuBLAS when one has already been registered\n",
      "2022-10-27 14:35:41.115201: W tensorflow/stream_executor/platform/default/dso_loader.cc:64] Could not load dynamic library 'libnvinfer.so.7'; dlerror: libnvinfer.so.7: cannot open shared object file: No such file or directory\n",
      "2022-10-27 14:35:41.115278: W tensorflow/stream_executor/platform/default/dso_loader.cc:64] Could not load dynamic library 'libnvinfer_plugin.so.7'; dlerror: libnvinfer_plugin.so.7: cannot open shared object file: No such file or directory\n",
      "2022-10-27 14:35:41.115284: W tensorflow/compiler/tf2tensorrt/utils/py_utils.cc:38] TF-TRT Warning: Cannot dlopen some TensorRT libraries. If you would like to use Nvidia GPU with TensorRT, please make sure the missing libraries mentioned above are installed properly.\n"
     ]
    },
    {
     "name": "stdout",
     "output_type": "stream",
     "text": [
      "WARNING:tensorflow:From /home/thema/miniconda3/lib/python3.9/site-packages/tensorflow/python/compat/v2_compat.py:107: disable_resource_variables (from tensorflow.python.ops.variable_scope) is deprecated and will be removed in a future version.\n",
      "Instructions for updating:\n",
      "non-resource variables are not supported in the long term\n"
     ]
    }
   ],
   "source": [
    "import os\n",
    "\n",
    "from jamie import JAMIE\n",
    "from jamie.evaluation import *\n",
    "from jamie.utilities import *\n",
    "import matplotlib.pyplot as plt\n",
    "from mmd_wrapper import mmd_combine\n",
    "import numpy as np\n",
    "import pandas as pd\n",
    "import seaborn as sns\n",
    "from sklearn import preprocessing"
   ]
  },
  {
   "cell_type": "code",
   "execution_count": 3,
   "id": "a9664c12-c7b0-4003-94b8-73bb81b0834d",
   "metadata": {
    "tags": []
   },
   "outputs": [],
   "source": [
    "np.random.seed(42)"
   ]
  },
  {
   "cell_type": "code",
   "execution_count": 6,
   "id": "1e7f4249-1e2f-49b8-b665-3543529b8ffc",
   "metadata": {
    "tags": []
   },
   "outputs": [],
   "source": [
    "dataset_name = 'scMNC-Visual'\n",
    "dataset_color = 'magenta'\n",
    "modality_names = ['Gene Expression', 'Electrophysiology']\n",
    "ephys_dir = '../data/scMNC/mouse_visual_cortex/raw_data/'\n",
    "\n",
    "# Gene Expression\n",
    "data1 = pd.read_csv(ephys_dir + 'patch-seq-counts.csv', sep='\\t')\n",
    "data1.index = data1['gene']\n",
    "data1 = data1.iloc[:, 1:].T\n",
    "fnames1 = data1.columns\n",
    "snames1 = np.array(['_'.join(d.split('_')[:-1]) for d in data1.index])\n",
    "data1 = data1.to_numpy()\n",
    "\n",
    "# Ephys\n",
    "data2 = np.load(ephys_dir + 'exp.npy', allow_pickle=True)\n",
    "for d in data2:\n",
    "    darr = d['name'].split(' ')\n",
    "    if darr[3] != 'slice':\n",
    "        darr.insert(4, darr[3][6:])\n",
    "        darr[3] = darr[3][:6]\n",
    "    if darr[5] != 'sample':\n",
    "        darr.insert(6, darr[5][7:])\n",
    "        darr[5] = darr[5][:7]\n",
    "    darr = np.array(darr)\n",
    "    name = ''.join(darr[[0, 2, 1]])\n",
    "    name += '_' + '_'.join(darr[[5, 6]])  \n",
    "    name += '_L4'\n",
    "    d['name'] = name\n",
    "snames2 = np.array([d['name'] for d in data2])\n",
    "\n",
    "# Corr\n",
    "corr = np.zeros((len(snames1), len(snames2)))\n",
    "for i, n in enumerate(snames1):\n",
    "    corr[i, np.argwhere(snames2 == n)] = 1\n",
    "\n",
    "# Meta\n",
    "meta = pd.read_excel(ephys_dir + 'layer4-cells.xlsx')\n",
    "# tray = row = None\n",
    "for i in range(meta.shape[0]):\n",
    "    # print(meta.iloc[i])\n",
    "    # tray = meta.iloc[i, 0] if not pd.isna(meta.iloc[i, 0]) else tray\n",
    "    # row = meta.iloc[i, 1] if not pd.isna(meta.iloc[i, 1]) else row\n",
    "    if not pd.isna(meta.iloc[i, 2]):\n",
    "        name = ''.join(np.array(meta.iloc[i, 2].split(' '))[[2, 0, 1]])\n",
    "        name += '_' + meta.iloc[i, 3].replace(' ', '_')\n",
    "        name += '_L4'\n",
    "        meta.iloc[i, 3] = name\n",
    "meta = meta.iloc[[not pd.isna(meta.iloc[i, 3]) for i in range(meta.shape[0])], 3:]\n",
    "meta.index = meta.iloc[:, 0]\n",
    "meta = meta.iloc[:, 1:]\n",
    "type1 = type2 = np.array(meta.iloc[:, 0])\n",
    "\n",
    "# Labels\n",
    "labels = [type1, type2]\n",
    "features = [np.array(fnames1), None]\n",
    "feature_dict = {}\n",
    "\n",
    "# Preprocessing\n",
    "data1 = preprocessing.scale(data1, axis=0)\n",
    "# data2 = preprocessing.scale(data2, axis=0)\n",
    "data1[np.isnan(data1)] = 0  # Replace NaN with average\n",
    "# data2[np.isnan(data2)] = 0\n",
    "dataset = [data1, data2]\n",
    "\n",
    "# Train-Test Imputation\n",
    "train_size = int(.8 * len(data1))\n",
    "train_idx = np.random.choice(range(len(data1)), train_size, replace=False)\n",
    "test_idx = np.array(list(set(range(len(data1))) - set(train_idx)))"
   ]
  },
  {
   "cell_type": "code",
   "execution_count": 7,
   "id": "1735939d-7277-4f4a-85b6-69e9242dc755",
   "metadata": {
    "tags": []
   },
   "outputs": [],
   "source": [
    "reduced_dim = 32"
   ]
  },
  {
   "cell_type": "code",
   "execution_count": 8,
   "id": "662eb04d-b305-4b62-bebe-e6f1a19cf5d7",
   "metadata": {},
   "outputs": [
    {
     "data": {
      "text/plain": [
       "array([[-0.469,  0.304, -0.27 , ...,  0.   ,  0.   ,  0.   ],\n",
       "       [-0.052, -0.686, -0.27 , ...,  0.   ,  0.   ,  0.   ],\n",
       "       [-0.469, -0.722, -0.27 , ...,  0.   ,  0.   ,  0.   ],\n",
       "       ...,\n",
       "       [-0.026,  0.494, -0.27 , ...,  0.   ,  0.   ,  0.   ],\n",
       "       [-0.469, -0.29 ,  1.756, ...,  0.   ,  0.   ,  0.   ],\n",
       "       [-0.449, -0.892, -0.27 , ...,  0.   ,  0.   ,  0.   ]])"
      ]
     },
     "execution_count": 8,
     "metadata": {},
     "output_type": "execute_result"
    }
   ],
   "source": [
    "data1"
   ]
  },
  {
   "cell_type": "code",
   "execution_count": 9,
   "id": "5868d000-b578-44fc-add2-581be03d0569",
   "metadata": {},
   "outputs": [
    {
     "data": {
      "text/plain": [
       "array([{'name': '20180703_sample_11_L4', 'stim': -200.0, 'resp': array([-62.028, -62.293, -62.599, ..., -98.758, -98.64 , -98.477])},\n",
       "       {'name': '20180703_sample_11_L4', 'stim': -180.0, 'resp': array([-60.793, -61.034, -61.313, ..., -95.304, -95.196, -95.047])},\n",
       "       {'name': '20180703_sample_11_L4', 'stim': -160.0, 'resp': array([-60.342, -60.56 , -60.808, ..., -92.481, -92.382, -92.249])},\n",
       "       ...,\n",
       "       {'name': '20180627_sample_14_L4', 'stim': 1340.0, 'resp': array([-64.809, -63.729, -62.518, ..., -27.459, -28.052, -28.779])},\n",
       "       {'name': '20180627_sample_14_L4', 'stim': 1360.0, 'resp': array([-63.871, -62.722, -61.458, ..., -27.342, -27.9  , -28.589])},\n",
       "       {'name': '20180627_sample_14_L4', 'stim': 1380.0, 'resp': array([-64.243, -63.087, -61.814, ..., -28.388, -28.917, -29.577])}],\n",
       "      dtype=object)"
      ]
     },
     "execution_count": 9,
     "metadata": {},
     "output_type": "execute_result"
    }
   ],
   "source": [
    "data2"
   ]
  },
  {
   "cell_type": "code",
   "execution_count": 12,
   "id": "2c389b9b-abfe-4734-95d9-bfedaf9b6c50",
   "metadata": {},
   "outputs": [
    {
     "data": {
      "text/plain": [
       "array([[0., 0., 0., ..., 0., 0., 0.],\n",
       "       [0., 0., 0., ..., 0., 0., 0.],\n",
       "       [0., 0., 0., ..., 0., 0., 0.],\n",
       "       ...,\n",
       "       [0., 0., 0., ..., 0., 0., 0.],\n",
       "       [0., 0., 0., ..., 0., 0., 0.],\n",
       "       [0., 0., 0., ..., 0., 0., 0.]])"
      ]
     },
     "execution_count": 12,
     "metadata": {},
     "output_type": "execute_result"
    }
   ],
   "source": [
    "corr"
   ]
  }
 ],
 "metadata": {
  "kernelspec": {
   "display_name": "Python 3 (ipykernel)",
   "language": "python",
   "name": "python3"
  },
  "language_info": {
   "codemirror_mode": {
    "name": "ipython",
    "version": 3
   },
   "file_extension": ".py",
   "mimetype": "text/x-python",
   "name": "python",
   "nbconvert_exporter": "python",
   "pygments_lexer": "ipython3",
   "version": "3.9.5"
  }
 },
 "nbformat": 4,
 "nbformat_minor": 5
}
