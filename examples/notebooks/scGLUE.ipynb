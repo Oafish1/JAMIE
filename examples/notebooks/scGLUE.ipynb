{
 "cells": [
  {
   "cell_type": "code",
   "execution_count": 1,
   "id": "a54a4980-d3b7-4664-9035-4abcb92b1ab5",
   "metadata": {
    "tags": []
   },
   "outputs": [],
   "source": [
    "%load_ext autoreload\n",
    "%autoreload 2\n",
    "%matplotlib inline"
   ]
  },
  {
   "cell_type": "code",
   "execution_count": 2,
   "id": "342bee2d-d6d8-49aa-98ba-79a38ade4175",
   "metadata": {
    "tags": []
   },
   "outputs": [
    {
     "name": "stderr",
     "output_type": "stream",
     "text": [
      "2023-01-05 11:38:14.188731: I tensorflow/core/platform/cpu_feature_guard.cc:193] This TensorFlow binary is optimized with oneAPI Deep Neural Network Library (oneDNN) to use the following CPU instructions in performance-critical operations:  AVX2 AVX512F AVX512_VNNI FMA\n",
      "To enable them in other operations, rebuild TensorFlow with the appropriate compiler flags.\n",
      "2023-01-05 11:38:14.454588: I tensorflow/core/util/util.cc:169] oneDNN custom operations are on. You may see slightly different numerical results due to floating-point round-off errors from different computation orders. To turn them off, set the environment variable `TF_ENABLE_ONEDNN_OPTS=0`.\n",
      "2023-01-05 11:38:14.515864: W tensorflow/stream_executor/platform/default/dso_loader.cc:64] Could not load dynamic library 'libcudart.so.11.0'; dlerror: libcudart.so.11.0: cannot open shared object file: No such file or directory\n",
      "2023-01-05 11:38:14.515877: I tensorflow/stream_executor/cuda/cudart_stub.cc:29] Ignore above cudart dlerror if you do not have a GPU set up on your machine.\n",
      "2023-01-05 11:38:14.554694: E tensorflow/stream_executor/cuda/cuda_blas.cc:2981] Unable to register cuBLAS factory: Attempting to register factory for plugin cuBLAS when one has already been registered\n",
      "2023-01-05 11:38:15.399989: W tensorflow/stream_executor/platform/default/dso_loader.cc:64] Could not load dynamic library 'libnvinfer.so.7'; dlerror: libnvinfer.so.7: cannot open shared object file: No such file or directory\n",
      "2023-01-05 11:38:15.400128: W tensorflow/stream_executor/platform/default/dso_loader.cc:64] Could not load dynamic library 'libnvinfer_plugin.so.7'; dlerror: libnvinfer_plugin.so.7: cannot open shared object file: No such file or directory\n",
      "2023-01-05 11:38:15.400144: W tensorflow/compiler/tf2tensorrt/utils/py_utils.cc:38] TF-TRT Warning: Cannot dlopen some TensorRT libraries. If you would like to use Nvidia GPU with TensorRT, please make sure the missing libraries mentioned above are installed properly.\n"
     ]
    },
    {
     "name": "stdout",
     "output_type": "stream",
     "text": [
      "WARNING:tensorflow:From /home/thema/miniconda3/lib/python3.9/site-packages/tensorflow/python/compat/v2_compat.py:107: disable_resource_variables (from tensorflow.python.ops.variable_scope) is deprecated and will be removed in a future version.\n",
      "Instructions for updating:\n",
      "non-resource variables are not supported in the long term\n"
     ]
    }
   ],
   "source": [
    "import os\n",
    "\n",
    "from jamie import JAMIE\n",
    "from jamie.evaluation import *\n",
    "from jamie.utilities import *\n",
    "import matplotlib.pyplot as plt\n",
    "from mmd_wrapper import mmd_combine\n",
    "import numpy as np\n",
    "import pandas as pd\n",
    "import seaborn as sns\n",
    "from sklearn import preprocessing"
   ]
  },
  {
   "cell_type": "code",
   "execution_count": 3,
   "id": "56b783aa-276a-4064-bcfb-767f22c9fbe7",
   "metadata": {
    "tags": []
   },
   "outputs": [],
   "source": [
    "np.random.seed(42)\n",
    "model_folder = './saved_models/'\n",
    "image_folder = './output_figures/'\n",
    "output_folder = './output_data/'"
   ]
  },
  {
   "cell_type": "code",
   "execution_count": 4,
   "id": "b6206e91-f09d-4d3b-81b1-461ea9c57df2",
   "metadata": {
    "tags": []
   },
   "outputs": [],
   "source": [
    "import scanpy as sc\n",
    "\n",
    "dataset_name = 'scGLUE'\n",
    "dataset_color = 'yellow'\n",
    "modality_names = ['RNA', 'ATAC']\n",
    "data_folder = '../data/scGLUE/'\n",
    "\n",
    "data1 = sc.read_h5ad(data_folder + 'Chen-2019-RNA.h5ad')\n",
    "type1 = data1.obs.cell_type.to_numpy()\n",
    "fname1 = data1.var.name.to_numpy()\n",
    "data1 = data1.X.todense()\n",
    "\n",
    "data2 = sc.read_h5ad(data_folder + 'Chen-2019-ATAC.h5ad')\n",
    "type2 = data2.obs.cell_type.to_numpy()\n",
    "fname2 = data2.var.index.to_numpy()\n",
    "data2 = data2.X.todense()\n",
    "\n",
    "# Labels\n",
    "labels = [type1, type2]\n",
    "features = [fname1, fname2]"
   ]
  },
  {
   "cell_type": "code",
   "execution_count": 5,
   "id": "6eedb327-db73-41e6-8776-3da37155f61e",
   "metadata": {
    "tags": []
   },
   "outputs": [
    {
     "name": "stderr",
     "output_type": "stream",
     "text": [
      "/home/thema/miniconda3/lib/python3.9/site-packages/sklearn/utils/validation.py:585: FutureWarning: np.matrix usage is deprecated in 1.0 and will raise a TypeError in 1.2. Please convert to a numpy array with np.asarray. For more information see: https://numpy.org/doc/stable/reference/generated/numpy.matrix.html\n",
      "  warnings.warn(\n",
      "/home/thema/miniconda3/lib/python3.9/site-packages/sklearn/preprocessing/_data.py:235: UserWarning: Numerical issues were encountered when centering the data and might not be solved. Dataset may contain too large values. You may need to prescale your features.\n",
      "  warnings.warn(\n",
      "/home/thema/miniconda3/lib/python3.9/site-packages/sklearn/preprocessing/_data.py:254: UserWarning: Numerical issues were encountered when scaling the data and might not be solved. The standard deviation of the data is probably very close to 0. \n",
      "  warnings.warn(\n",
      "/home/thema/miniconda3/lib/python3.9/site-packages/sklearn/utils/validation.py:585: FutureWarning: np.matrix usage is deprecated in 1.0 and will raise a TypeError in 1.2. Please convert to a numpy array with np.asarray. For more information see: https://numpy.org/doc/stable/reference/generated/numpy.matrix.html\n",
      "  warnings.warn(\n",
      "/home/thema/miniconda3/lib/python3.9/site-packages/sklearn/preprocessing/_data.py:235: UserWarning: Numerical issues were encountered when centering the data and might not be solved. Dataset may contain too large values. You may need to prescale your features.\n",
      "  warnings.warn(\n",
      "/home/thema/miniconda3/lib/python3.9/site-packages/sklearn/preprocessing/_data.py:254: UserWarning: Numerical issues were encountered when scaling the data and might not be solved. The standard deviation of the data is probably very close to 0. \n",
      "  warnings.warn(\n"
     ]
    }
   ],
   "source": [
    "# Preprocessing\n",
    "data1 = preprocessing.scale(data1, axis=0)\n",
    "data2 = preprocessing.scale(data2, axis=0)\n",
    "data1[np.isnan(data1)] = 0  # Replace NaN with average\n",
    "data2[np.isnan(data2)] = 0\n",
    "# data1 = preprocessing.MinMaxScaler().fit_transform(data1)\n",
    "# data2 = preprocessing.MinMaxScaler().fit_transform(data2)\n",
    "dataset = [data1, data2]\n",
    "\n",
    "# Replace NULL feature names\n",
    "for i in range(len(features)):\n",
    "    if features[i] is None:\n",
    "        features[i] = np.array([f'Feature {i}' for i in range(dataset[i].shape[1])])\n",
    "        \n",
    "# Train-Test Imputation\n",
    "train_size = int(.8 * len(data1))\n",
    "train_idx = np.random.choice(range(len(data1)), train_size, replace=False)\n",
    "test_idx = np.array(list(set(range(len(data1))) - set(train_idx)))\n",
    "\n",
    "# Reduced Priors\n",
    "full_priors = np.eye(len(dataset[0]))\n",
    "random_idx = np.random.choice(range(len(dataset[0])), int(.5 * len(dataset[0])), replace=False)\n",
    "priors = np.zeros(len(dataset[0]))\n",
    "priors[random_idx] = 1\n",
    "half_priors = np.diag(priors)\n",
    "random_idx = np.random.choice(range(len(dataset[0])), int(.75 * len(dataset[0])), replace=False)\n",
    "priors = np.zeros(len(dataset[0]))\n",
    "priors[random_idx] = 1\n",
    "tq_priors = np.diag(priors)\n",
    "none_priors = np.zeros((len(dataset[0]), len(dataset[0])))"
   ]
  },
  {
   "cell_type": "code",
   "execution_count": 6,
   "id": "e61e27a5-b024-4286-96c9-64a9ee04a1aa",
   "metadata": {
    "tags": []
   },
   "outputs": [],
   "source": [
    "reduced_dim = 32\n",
    "kwargs = {\n",
    "    'output_dim': reduced_dim,\n",
    "    'epoch_DNN': 10000,\n",
    "    'min_epochs': 2500,\n",
    "    'log_DNN': 500,\n",
    "    'use_early_stop': True,\n",
    "    'batch_size': 512,\n",
    "    'pca_dim': 2*[512],\n",
    "    'dist_method': 'euclidean',\n",
    "    'loss_weights': [1,1,1,0],\n",
    "    'use_f_tilde': False,\n",
    "    'dropout': 0,\n",
    "}\n",
    "kwargs_imp = {k: kwargs[k] for k in kwargs if k != 'dropout'}"
   ]
  },
  {
   "cell_type": "code",
   "execution_count": 7,
   "id": "ea3927d1-5b8d-4d51-9b67-d9bfd66c7ca2",
   "metadata": {
    "tags": []
   },
   "outputs": [],
   "source": [
    "integrated_data = []\n",
    "integrated_names = []\n",
    "colors = []\n",
    "shapes = []"
   ]
  },
  {
   "cell_type": "markdown",
   "id": "990c2d43-ad15-48e7-ace4-73b2fe51bae7",
   "metadata": {},
   "source": [
    "# JAMIE"
   ]
  },
  {
   "cell_type": "code",
   "execution_count": 8,
   "id": "6f8adfb4-ae78-4d90-aac0-43c7d1a23aa0",
   "metadata": {
    "scrolled": true,
    "tags": []
   },
   "outputs": [
    {
     "name": "stdout",
     "output_type": "stream",
     "text": [
      "Loaded model './saved_models/jm---scGLUE---9190-28930---9190-241757---dropout-0--loss_weights-(1-1-1-0)--use_f_tilde-False.h5'\n"
     ]
    }
   ],
   "source": [
    "# Integration\n",
    "size_str, hash_str = hash_kwargs(kwargs, dataset_name, dataset)\n",
    "prefix = model_folder + 'jm---'\n",
    "model_str = prefix + hash_str + '.h5'\n",
    "match_str = prefix + size_str + '.npy'\n",
    "\n",
    "# Instantiate\n",
    "mr = list(np.load(match_str, allow_pickle=True)) if os.path.exists(match_str) else None\n",
    "jm = JAMIE(**kwargs, match_result=mr, debug=True)\n",
    "\n",
    "# Train\n",
    "if os.path.exists(model_str):\n",
    "    jm.load_model(model_str)\n",
    "    print(f'Loaded model \\'{model_str}\\'')\n",
    "else:\n",
    "    jm_data = jm.fit_transform(dataset=dataset)\n",
    "    jm.save_model(model_str)\n",
    "    np.save(match_str, jm.match_result, allow_pickle=True)\n",
    "jm_data = jm.transform(dataset=dataset)\n",
    "integrated_data.append(jm_data)\n",
    "integrated_names.append('JAMIE')\n",
    "colors.append('blue')\n",
    "shapes.append('8')"
   ]
  },
  {
   "cell_type": "code",
   "execution_count": 9,
   "id": "7f3d5c3d-9694-4ed5-bd06-122ac7e67adc",
   "metadata": {
    "scrolled": true,
    "tags": []
   },
   "outputs": [
    {
     "name": "stdout",
     "output_type": "stream",
     "text": [
      "Loaded model './saved_models/jm_75---scGLUE---9190-28930---9190-241757---dropout-0--loss_weights-(1-1-1-0)--use_f_tilde-False.h5'\n"
     ]
    }
   ],
   "source": [
    "# Integration (.75)\n",
    "size_str, hash_str = hash_kwargs(kwargs, dataset_name, dataset)\n",
    "prefix = model_folder + 'jm_75---'\n",
    "match_prefix = model_folder + 'jm---'\n",
    "model_str = prefix + hash_str + '.h5'\n",
    "match_str = match_prefix + size_str + '.npy'\n",
    "\n",
    "# Instantiate\n",
    "mr = list(np.load(match_str, allow_pickle=True)) if os.path.exists(match_str) else None\n",
    "jm_75 = JAMIE(**kwargs, match_result=mr, debug=True)\n",
    "\n",
    "# Train\n",
    "if os.path.exists(model_str):\n",
    "    jm_75.load_model(model_str)\n",
    "    print(f'Loaded model \\'{model_str}\\'')\n",
    "else:\n",
    "    jm_75_data = jm_75.fit_transform(dataset=dataset, P=tq_priors)\n",
    "    jm_75.save_model(model_str)\n",
    "    np.save(match_str, jm_75.match_result, allow_pickle=True)\n",
    "jm_75_data = jm_75.transform(dataset=dataset)\n",
    "integrated_data.append(jm_75_data)\n",
    "integrated_names.append( 'JAMIE (.75)')\n",
    "colors.append('lawngreen')\n",
    "shapes.append('^')"
   ]
  },
  {
   "cell_type": "code",
   "execution_count": 10,
   "id": "b1e14347-85f4-4a2c-b64e-5e8616316579",
   "metadata": {
    "scrolled": true,
    "tags": []
   },
   "outputs": [
    {
     "name": "stdout",
     "output_type": "stream",
     "text": [
      "Loaded model './saved_models/jm_50---scGLUE---9190-28930---9190-241757---dropout-0--loss_weights-(1-1-1-0)--use_f_tilde-False.h5'\n"
     ]
    }
   ],
   "source": [
    "# Integration (.5)\n",
    "size_str, hash_str = hash_kwargs(kwargs, dataset_name, dataset)\n",
    "prefix = model_folder + 'jm_50---'\n",
    "match_prefix = model_folder + 'jm---'\n",
    "model_str = prefix + hash_str + '.h5'\n",
    "match_str = match_prefix + size_str + '.npy'\n",
    "\n",
    "# Instantiate\n",
    "mr = list(np.load(match_str, allow_pickle=True)) if os.path.exists(match_str) else None\n",
    "jm_50 = JAMIE(**kwargs, match_result=mr, debug=True)\n",
    "\n",
    "# Train\n",
    "if os.path.exists(model_str):\n",
    "    jm_50.load_model(model_str)\n",
    "    print(f'Loaded model \\'{model_str}\\'')\n",
    "else:\n",
    "    jm_50_data = jm_50.fit_transform(dataset=dataset, P=half_priors)\n",
    "    jm_50.save_model(model_str)\n",
    "    np.save(match_str, jm_50.match_result, allow_pickle=True)\n",
    "jm_50_data = jm_50.transform(dataset=dataset)\n",
    "integrated_data.append(jm_50_data)\n",
    "integrated_names.append( 'JAMIE (.5)')\n",
    "colors.append('midnightblue')\n",
    "shapes.append('d')"
   ]
  },
  {
   "cell_type": "code",
   "execution_count": 11,
   "id": "6eea72f2-5cbd-4655-babc-195663e3b2e1",
   "metadata": {
    "scrolled": true,
    "tags": []
   },
   "outputs": [
    {
     "name": "stdout",
     "output_type": "stream",
     "text": [
      "Loaded model './saved_models/jm_im---scGLUE---9190-28930---9190-241757---loss_weights-(1-1-1-0)--use_f_tilde-False.h5'\n"
     ]
    }
   ],
   "source": [
    "# Imputation\n",
    "size_str, hash_str = hash_kwargs(kwargs_imp, dataset_name, dataset)\n",
    "prefix = model_folder + 'jm_im---'\n",
    "match_prefix = model_folder + 'jm_im---'\n",
    "model_str = prefix + hash_str + '.h5'\n",
    "match_str = match_prefix + size_str + '.npy'\n",
    "\n",
    "# Instantiate\n",
    "mr = list(np.load(match_str, allow_pickle=True)) if os.path.exists(match_str) else None\n",
    "jm_im = JAMIE(**kwargs_imp, match_result=mr, debug=True)\n",
    "\n",
    "# Train\n",
    "if os.path.exists(model_str):\n",
    "    jm_im.load_model(model_str)\n",
    "    print(f'Loaded model \\'{model_str}\\'')\n",
    "else:\n",
    "    jm_im.fit_transform(dataset=[d[train_idx] for d in dataset])\n",
    "    jm_im.save_model(model_str)\n",
    "    np.save(match_str, jm_im.match_result, allow_pickle=True)\n",
    "jm_imputed = [jm_im.modal_predict(dataset[i], i) for i in range(1, -1, -1)]"
   ]
  },
  {
   "cell_type": "markdown",
   "id": "43cb0309-2712-4c3e-9178-cfea36f0e6aa",
   "metadata": {
    "tags": []
   },
   "source": [
    "# Comparison Methods"
   ]
  },
  {
   "cell_type": "code",
   "execution_count": 12,
   "id": "503b5d33-d66b-4808-9e88-66db37d24e13",
   "metadata": {
    "tags": []
   },
   "outputs": [],
   "source": [
    "from sklearn.decomposition import PCA\n",
    "\n",
    "# PCA features for algs that need it (To Revise)\n",
    "max_feat = 10000\n",
    "dataset_mini = dataset.copy()\n",
    "pca_mini = []\n",
    "for i in range(len(dataset_mini)):\n",
    "    if dataset[i].shape[1] > max_feat:\n",
    "        n_components = min(max_feat, dataset[i].shape[0])\n",
    "        pca = PCA(n_components=n_components)\n",
    "        # dataset_mini[i] = pca.fit_transform(dataset[i])\n",
    "        dataset_mini[i] = np.zeros((dataset[i].shape[0], n_components))\n",
    "        pca_mini.append(pca)"
   ]
  },
  {
   "cell_type": "code",
   "execution_count": 13,
   "id": "e23a0bfb-c1db-4a36-bac9-87d7ca1d8862",
   "metadata": {
    "tags": []
   },
   "outputs": [
    {
     "name": "stdout",
     "output_type": "stream",
     "text": [
      "Loaded data './output_data/NLMA---scGLUE---9190-28930---9190-241757.npy'\n"
     ]
    }
   ],
   "source": [
    "method_name, method_color, method_shape = 'NLMA', 'red', 'X'\n",
    "in_data = dataset\n",
    "method_str = '---'.join([method_name, dataset_name, '-'.join([str(s) for s in in_data[0].shape]), '-'.join([str(s) for s in in_data[1].shape])])\n",
    "method_str = output_folder + method_str + '.npy'\n",
    "try:\n",
    "    data = np.load(method_str)\n",
    "    print(f'Loaded data \\'{method_str}\\'')\n",
    "except FileNotFoundError:\n",
    "    data, _ = mmd_combine(*in_data, method='maninetcluster', alignment='nonlinear manifold aln', num_dims=reduced_dim)\n",
    "    np.save(method_str, data)\n",
    "integrated_data.append(data)\n",
    "integrated_names.append(method_name)\n",
    "colors.append(method_color)\n",
    "shapes.append(method_shape)"
   ]
  },
  {
   "cell_type": "code",
   "execution_count": 14,
   "id": "594c3a38-3c8b-4be8-ad93-26191e8e06b6",
   "metadata": {
    "tags": []
   },
   "outputs": [],
   "source": [
    "# method_name, method_color, method_shape = 'LMA', 'orange', '*'\n",
    "# in_data = dataset_mini\n",
    "# method_str = '---'.join([method_name, dataset_name, '-'.join([str(s) for s in in_data[0].shape]), '-'.join([str(s) for s in in_data[1].shape])])\n",
    "# method_str = output_folder + method_str + '.npy'\n",
    "# try:\n",
    "#     data = np.load(method_str)\n",
    "#     print(f'Loaded data \\'{method_str}\\'')\n",
    "# except FileNotFoundError:\n",
    "#     data, _, _ = mmd_combine(*in_data, method='maninetcluster', alignment='linear manifold', num_dims=reduced_dim)\n",
    "#     np.save(method_str, data)\n",
    "# integrated_data.append(data)\n",
    "# integrated_names.append(method_name)\n",
    "# colors.append(method_color)\n",
    "# shapes.append(method_shape)"
   ]
  },
  {
   "cell_type": "code",
   "execution_count": 15,
   "id": "cf882337-cd02-4709-b149-e9e6cc829fed",
   "metadata": {
    "tags": []
   },
   "outputs": [
    {
     "name": "stderr",
     "output_type": "stream",
     "text": [
      "/home/thema/miniconda3/lib/python3.9/site-packages/mmd_wrapper/algs/source/maninetcluster/alignment.py:28: RuntimeWarning: invalid value encountered in true_divide\n",
      "  vecs[:,i] /= np.linalg.norm(vecs[:,i])\n"
     ]
    }
   ],
   "source": [
    "method_name, method_color, method_shape = 'CCA', 'm', 'D'\n",
    "in_data = dataset_mini\n",
    "method_str = '---'.join([method_name, dataset_name, '-'.join([str(s) for s in in_data[0].shape]), '-'.join([str(s) for s in in_data[1].shape])])\n",
    "method_str = output_folder + method_str + '.npy'\n",
    "try:\n",
    "    data = np.load(method_str)\n",
    "    print(f'Loaded data \\'{method_str}\\'')\n",
    "except FileNotFoundError:\n",
    "    data, _, _ = mmd_combine(*in_data, method='maninetcluster', alignment='cca', num_dims=reduced_dim)\n",
    "    np.save(method_str, data)\n",
    "integrated_data.append(data)\n",
    "integrated_names.append(method_name)\n",
    "colors.append(method_color)\n",
    "shapes.append(method_shape)"
   ]
  },
  {
   "cell_type": "code",
   "execution_count": 16,
   "id": "151ffb15-7263-4802-afd2-5a0a27ac93b7",
   "metadata": {
    "tags": []
   },
   "outputs": [],
   "source": [
    "# method_name, method_color, method_shape = 'MMD-MA', 'cyan', 'P'\n",
    "# in_data = dataset\n",
    "# in_data = [d / np.linalg.norm(d, axis=1).reshape(-1, 1) for d in in_data]\n",
    "# in_data = [np.matmul(d, d.T) for d in in_data]\n",
    "# method_str = '---'.join([method_name, dataset_name, '-'.join([str(s) for s in in_data[0].shape]), '-'.join([str(s) for s in in_data[1].shape])])\n",
    "# method_str = output_folder + method_str + '.npy'\n",
    "# try:\n",
    "#     data = np.load(method_str)\n",
    "#     print(f'Loaded data \\'{method_str}\\'')\n",
    "# except FileNotFoundError:\n",
    "#     data, _, _ = mmd_combine(*in_data, method='mmd_ma', p=reduced_dim, max_iterations=10001)\n",
    "#     np.save(method_str, data)\n",
    "# integrated_data.append(data)\n",
    "# integrated_names.append(method_name)\n",
    "# colors.append(method_color)\n",
    "# shapes.append(method_shape)"
   ]
  },
  {
   "cell_type": "code",
   "execution_count": 17,
   "id": "005842e7-eace-4266-a56d-16c126a28038",
   "metadata": {
    "scrolled": true,
    "tags": []
   },
   "outputs": [],
   "source": [
    "# method_name, method_color, method_shape = 'UnionCom', 'green', 's'\n",
    "# in_data = dataset\n",
    "# method_str = '---'.join([method_name, dataset_name, '-'.join([str(s) for s in in_data[0].shape]), '-'.join([str(s) for s in in_data[1].shape])])\n",
    "# method_str = output_folder + method_str + '.npy'\n",
    "# try:\n",
    "#     data = np.load(method_str)\n",
    "#     print(f'Loaded data \\'{method_str}\\'')\n",
    "# except FileNotFoundError:\n",
    "#     data, _, _ = mmd_combine(*in_data, method='unioncom', output_dim=reduced_dim)\n",
    "#     np.save(method_str, data)\n",
    "# integrated_data.append(data)\n",
    "# integrated_names.append(method_name)\n",
    "# colors.append(method_color)\n",
    "# shapes.append(method_shape)"
   ]
  },
  {
   "cell_type": "code",
   "execution_count": 18,
   "id": "d7e4f05d-e252-4df4-813a-985079893f48",
   "metadata": {
    "tags": []
   },
   "outputs": [],
   "source": [
    "method_name, method_color, method_shape = 'scGLUE', 'yellow', 'p'\n",
    "in_data = dataset\n",
    "data =[\n",
    "    np.load(data_folder + 'embedded/rna_embedded.npy'),\n",
    "    np.load(data_folder + 'embedded/atac_embedded.npy')]\n",
    "integrated_data.append(data)\n",
    "integrated_names.append(method_name)\n",
    "colors.append(method_color)\n",
    "shapes.append(method_shape)"
   ]
  },
  {
   "cell_type": "code",
   "execution_count": null,
   "id": "25ec0f78-fc49-487b-a42b-76862ecf4337",
   "metadata": {
    "tags": []
   },
   "outputs": [],
   "source": [
    "# Imputation\n",
    "if False:\n",
    "    imputation_name = 'Babel'\n",
    "else:\n",
    "    imputation_name = 'KNN'\n",
    "    nn_imputed = [predict_knn(torch.tensor(dataset[i][train_idx]).float(), torch.tensor(dataset[(i+1)%2][train_idx]).float(), torch.tensor(dataset[i]).float()) for i in range(1, -1, -1)]\n",
    "imputed_data_full = [jm_imputed, nn_imputed][::-1]\n",
    "imputed_data = [[d[test_idx] for d in ds] for ds in imputed_data_full]\n",
    "imputed_names = ['JAMIE', imputation_name][::-1]"
   ]
  },
  {
   "cell_type": "markdown",
   "id": "35ad648e-8974-4937-814c-7aad51c12db1",
   "metadata": {
    "tags": []
   },
   "source": [
    "# Visualization"
   ]
  },
  {
   "cell_type": "code",
   "execution_count": null,
   "id": "4fa19bcc-b80a-4b83-9c30-5e650c7b08f7",
   "metadata": {
    "tags": []
   },
   "outputs": [],
   "source": [
    "style='white'\n",
    "sns.set(style=style)\n",
    "plt.rcParams.update({'font.weight': 'normal',\n",
    "                     'font.size': 18,\n",
    "                     'axes.titlesize': 'large',\n",
    "                     'axes.labelsize': 'large',\n",
    "                     'xtick.labelsize': 'small',\n",
    "                     'ytick.labelsize': 'small'})\n",
    "sns.set_palette('husl', len(np.unique(labels)))"
   ]
  },
  {
   "cell_type": "code",
   "execution_count": null,
   "id": "a53abb3d-ec8f-4ea4-8265-f50f6febe527",
   "metadata": {
    "tags": []
   },
   "outputs": [],
   "source": [
    "%%capture\n",
    "from matplotlib.patches import Patch\n",
    "from matplotlib.lines import Line2D\n",
    "\n",
    "algorithm_elements = [Line2D([0], [0], marker='s', color='w', markerfacecolor=c, label=n, markersize=10) for n, c in zip(integrated_names, colors)]\n",
    "label_elements = [Line2D([0], [0], marker='o', color='w', markerfacecolor=plt.rcParams['axes.prop_cycle'].by_key()['color'][i], label=l, markersize=10) for i, l in enumerate(np.unique(labels))]\n",
    "\n",
    "# https://stackoverflow.com/a/47749903\n",
    "fig, ax = plt.subplots()\n",
    "legend = ax.legend(handles=label_elements, loc='center', frameon=False, ncol=min(len(label_elements), 4))\n",
    "legend.figure.canvas.draw()\n",
    "bbox = legend.get_window_extent().transformed(fig.dpi_scale_trans.inverted())\n",
    "plt.axis('off')\n",
    "plt.savefig(image_folder + dataset_name + '-LabelLegend.png', bbox_inches=bbox, dpi=300)\n",
    "\n",
    "fig, ax = plt.subplots()\n",
    "legend = ax.legend(handles=algorithm_elements, loc='center', frameon=False)\n",
    "legend.figure.canvas.draw()\n",
    "bbox = legend.get_window_extent().transformed(fig.dpi_scale_trans.inverted())\n",
    "plt.axis('off')\n",
    "plt.savefig(image_folder + dataset_name + '-AlgorithmLegend.png', bbox_inches=bbox, dpi=300)"
   ]
  },
  {
   "cell_type": "code",
   "execution_count": null,
   "id": "576cd65b-1244-4041-9131-bcf0e9438a06",
   "metadata": {
    "tags": []
   },
   "outputs": [],
   "source": [
    "from IPython.display import display, Image\n",
    "display( Image(filename=image_folder + dataset_name + '-LabelLegend.png', width=400) )\n",
    "display( Image(filename=image_folder + dataset_name + '-AlgorithmLegend.png', width=100) )"
   ]
  },
  {
   "cell_type": "code",
   "execution_count": null,
   "id": "8f4f9204-55ad-4f33-8f64-01fe85412215",
   "metadata": {
    "tags": []
   },
   "outputs": [],
   "source": [
    "# Raw data\n",
    "fig = plt.figure(figsize=(10, 5))\n",
    "plot_regular(dataset, labels, modality_names)\n",
    "plt.tight_layout()\n",
    "plt.savefig(image_folder + dataset_name + '-Data.png', dpi=300, bbox_inches='tight')\n",
    "\n",
    "# Integrated data\n",
    "for d, n in zip(integrated_data, integrated_names):\n",
    "    fig = plt.figure(figsize=(10, 5))\n",
    "    plot_integrated(d, labels, [f'{n} - ' + mn for mn in modality_names])\n",
    "    plt.tight_layout()\n",
    "    plt.savefig(image_folder + dataset_name + f'-{n}.png', dpi=300, bbox_inches='tight')\n",
    "    plt.show()"
   ]
  },
  {
   "cell_type": "code",
   "execution_count": null,
   "id": "c3065492-6568-4166-a517-0339592aaac8",
   "metadata": {
    "tags": []
   },
   "outputs": [],
   "source": [
    "plt.figure(figsize=(5, 5))\n",
    "plot_accuracy_graph(integrated_data, labels, integrated_names, colors=colors, shapes=shapes)\n",
    "plt.savefig(image_folder + dataset_name + '-Acc.png', dpi=300, bbox_inches='tight')"
   ]
  },
  {
   "cell_type": "code",
   "execution_count": null,
   "id": "1233d483-c22a-4c1b-ab96-0127a9e10b42",
   "metadata": {
    "tags": []
   },
   "outputs": [],
   "source": [
    "plt.figure(figsize=(10, 5))\n",
    "plot_auroc_correlation(imputed_data, [data1[test_idx], data2[test_idx]], modality_names, index=0, names=imputed_names)\n",
    "plt.tight_layout()\n",
    "plt.savefig(image_folder + dataset_name + '-Imp1.png', dpi=300, bbox_inches='tight')\n",
    "\n",
    "plt.figure(figsize=(10, 5))\n",
    "plot_auroc_correlation(imputed_data, [data1[test_idx], data2[test_idx]], modality_names, index=1, names=imputed_names)\n",
    "plt.tight_layout()\n",
    "plt.savefig(image_folder + dataset_name + '-Imp2.png', dpi=300, bbox_inches='tight')"
   ]
  },
  {
   "cell_type": "code",
   "execution_count": null,
   "id": "c32f2ccb-34d4-463e-8a53-54c4c279f349",
   "metadata": {
    "tags": []
   },
   "outputs": [],
   "source": [
    "plt.figure(figsize=(10, 5))\n",
    "plot_distribution_alone([dataset[0][test_idx], jm_imputed[0][test_idx]], 2*[labels[0][test_idx]], label_order=np.unique(labels), title=modality_names[0], fnames=2*[features[0]], feature_dict=feature_dict)\n",
    "sns.despine()\n",
    "plt.savefig(image_folder + dataset_name + '-Dist1.png', dpi=300, bbox_inches='tight')\n",
    "\n",
    "plt.figure(figsize=(10, 5))\n",
    "plot_distribution_alone([dataset[1][test_idx], jm_imputed[1][test_idx]], 2*[labels[1][test_idx]], label_order=np.unique(labels), title=modality_names[1], fnames=2*[features[1]], feature_dict=feature_dict)\n",
    "sns.despine()\n",
    "plt.savefig(image_folder + dataset_name + '-Dist2.png', dpi=300, bbox_inches='tight')"
   ]
  },
  {
   "cell_type": "code",
   "execution_count": null,
   "id": "cae54cdb-4601-497c-9f9f-86715ffa0830",
   "metadata": {
    "tags": []
   },
   "outputs": [],
   "source": [
    "plt.figure(figsize=(5, 5))\n",
    "plot_distribution_similarity([dataset[0][test_idx], jm_imputed[0][test_idx]], 2*[labels[0][test_idx]], label_order=np.unique(labels), title=modality_names[0], fnames=2*[features[0]])\n",
    "sns.despine()\n",
    "plt.tight_layout()\n",
    "plt.savefig(image_folder + dataset_name + '-Sim1.png', dpi=300, bbox_inches='tight')\n",
    "\n",
    "plt.figure(figsize=(5, 5))\n",
    "plot_distribution_similarity([dataset[1][test_idx], jm_imputed[1][test_idx]], 2*[labels[1][test_idx]], label_order=np.unique(labels), title=modality_names[1], fnames=2*[features[1]])\n",
    "sns.despine()\n",
    "plt.tight_layout()\n",
    "plt.savefig(image_folder + dataset_name + '-Sim2.png', dpi=300, bbox_inches='tight')"
   ]
  }
 ],
 "metadata": {
  "kernelspec": {
   "display_name": "nmacom",
   "language": "python",
   "name": "nmacom"
  },
  "language_info": {
   "codemirror_mode": {
    "name": "ipython",
    "version": 3
   },
   "file_extension": ".py",
   "mimetype": "text/x-python",
   "name": "python",
   "nbconvert_exporter": "python",
   "pygments_lexer": "ipython3",
   "version": "3.9.5"
  },
  "widgets": {
   "application/vnd.jupyter.widget-state+json": {
    "state": {
     "0a778897f5a3448e8d2c7054f22fec68": {
      "model_module": "@jupyter-widgets/base",
      "model_module_version": "2.0.0",
      "model_name": "LayoutModel",
      "state": {
       "_model_module": "@jupyter-widgets/base",
       "_model_module_version": "2.0.0",
       "_model_name": "LayoutModel",
       "_view_count": null,
       "_view_module": "@jupyter-widgets/base",
       "_view_module_version": "2.0.0",
       "_view_name": "LayoutView",
       "align_content": null,
       "align_items": null,
       "align_self": null,
       "border_bottom": null,
       "border_left": null,
       "border_right": null,
       "border_top": null,
       "bottom": null,
       "display": null,
       "flex": null,
       "flex_flow": null,
       "grid_area": null,
       "grid_auto_columns": null,
       "grid_auto_flow": null,
       "grid_auto_rows": null,
       "grid_column": null,
       "grid_gap": null,
       "grid_row": null,
       "grid_template_areas": null,
       "grid_template_columns": null,
       "grid_template_rows": null,
       "height": null,
       "justify_content": null,
       "justify_items": null,
       "left": null,
       "margin": null,
       "max_height": null,
       "max_width": null,
       "min_height": null,
       "min_width": null,
       "object_fit": null,
       "object_position": null,
       "order": null,
       "overflow": null,
       "padding": null,
       "right": null,
       "top": null,
       "visibility": null,
       "width": null
      }
     },
     "1ca24abf48e842d29de28b8b94a0fc64": {
      "model_module": "@jupyter-widgets/controls",
      "model_module_version": "2.0.0",
      "model_name": "HTMLStyleModel",
      "state": {
       "_model_module": "@jupyter-widgets/controls",
       "_model_module_version": "2.0.0",
       "_model_name": "HTMLStyleModel",
       "_view_count": null,
       "_view_module": "@jupyter-widgets/base",
       "_view_module_version": "2.0.0",
       "_view_name": "StyleView",
       "background": null,
       "description_width": "",
       "font_size": null,
       "text_color": null
      }
     },
     "1ea1a3d2b5d24b048193c0ba2a53a082": {
      "model_module": "@jupyter-widgets/controls",
      "model_module_version": "2.0.0",
      "model_name": "FloatProgressModel",
      "state": {
       "_dom_classes": [],
       "_model_module": "@jupyter-widgets/controls",
       "_model_module_version": "2.0.0",
       "_model_name": "FloatProgressModel",
       "_view_count": null,
       "_view_module": "@jupyter-widgets/controls",
       "_view_module_version": "2.0.0",
       "_view_name": "ProgressView",
       "bar_style": "success",
       "description": "",
       "description_allow_html": false,
       "layout": "IPY_MODEL_4c42e361d476474da82920582c57c937",
       "max": 500,
       "min": 0,
       "orientation": "horizontal",
       "style": "IPY_MODEL_4a15a24b73044b35910a6ce60ff4e525",
       "tabbable": null,
       "tooltip": null,
       "value": 500
      }
     },
     "2fd5b03df2b441fbafc27be4957ca0c0": {
      "model_module": "@jupyter-widgets/controls",
      "model_module_version": "2.0.0",
      "model_name": "HTMLModel",
      "state": {
       "_dom_classes": [],
       "_model_module": "@jupyter-widgets/controls",
       "_model_module_version": "2.0.0",
       "_model_name": "HTMLModel",
       "_view_count": null,
       "_view_module": "@jupyter-widgets/controls",
       "_view_module_version": "2.0.0",
       "_view_name": "HTMLView",
       "description": "",
       "description_allow_html": false,
       "layout": "IPY_MODEL_73620a2e823041b3a8bdcb30f902a7bc",
       "placeholder": "​",
       "style": "IPY_MODEL_1ca24abf48e842d29de28b8b94a0fc64",
       "tabbable": null,
       "tooltip": null,
       "value": "100%"
      }
     },
     "4a15a24b73044b35910a6ce60ff4e525": {
      "model_module": "@jupyter-widgets/controls",
      "model_module_version": "2.0.0",
      "model_name": "ProgressStyleModel",
      "state": {
       "_model_module": "@jupyter-widgets/controls",
       "_model_module_version": "2.0.0",
       "_model_name": "ProgressStyleModel",
       "_view_count": null,
       "_view_module": "@jupyter-widgets/base",
       "_view_module_version": "2.0.0",
       "_view_name": "StyleView",
       "bar_color": null,
       "description_width": ""
      }
     },
     "4c42e361d476474da82920582c57c937": {
      "model_module": "@jupyter-widgets/base",
      "model_module_version": "2.0.0",
      "model_name": "LayoutModel",
      "state": {
       "_model_module": "@jupyter-widgets/base",
       "_model_module_version": "2.0.0",
       "_model_name": "LayoutModel",
       "_view_count": null,
       "_view_module": "@jupyter-widgets/base",
       "_view_module_version": "2.0.0",
       "_view_name": "LayoutView",
       "align_content": null,
       "align_items": null,
       "align_self": null,
       "border_bottom": null,
       "border_left": null,
       "border_right": null,
       "border_top": null,
       "bottom": null,
       "display": null,
       "flex": null,
       "flex_flow": null,
       "grid_area": null,
       "grid_auto_columns": null,
       "grid_auto_flow": null,
       "grid_auto_rows": null,
       "grid_column": null,
       "grid_gap": null,
       "grid_row": null,
       "grid_template_areas": null,
       "grid_template_columns": null,
       "grid_template_rows": null,
       "height": null,
       "justify_content": null,
       "justify_items": null,
       "left": null,
       "margin": null,
       "max_height": null,
       "max_width": null,
       "min_height": null,
       "min_width": null,
       "object_fit": null,
       "object_position": null,
       "order": null,
       "overflow": null,
       "padding": null,
       "right": null,
       "top": null,
       "visibility": null,
       "width": null
      }
     },
     "5ee72e6ec7bd4bdfbf5ef61d6e850ed2": {
      "model_module": "@jupyter-widgets/controls",
      "model_module_version": "2.0.0",
      "model_name": "HTMLStyleModel",
      "state": {
       "_model_module": "@jupyter-widgets/controls",
       "_model_module_version": "2.0.0",
       "_model_name": "HTMLStyleModel",
       "_view_count": null,
       "_view_module": "@jupyter-widgets/base",
       "_view_module_version": "2.0.0",
       "_view_name": "StyleView",
       "background": null,
       "description_width": "",
       "font_size": null,
       "text_color": null
      }
     },
     "73620a2e823041b3a8bdcb30f902a7bc": {
      "model_module": "@jupyter-widgets/base",
      "model_module_version": "2.0.0",
      "model_name": "LayoutModel",
      "state": {
       "_model_module": "@jupyter-widgets/base",
       "_model_module_version": "2.0.0",
       "_model_name": "LayoutModel",
       "_view_count": null,
       "_view_module": "@jupyter-widgets/base",
       "_view_module_version": "2.0.0",
       "_view_name": "LayoutView",
       "align_content": null,
       "align_items": null,
       "align_self": null,
       "border_bottom": null,
       "border_left": null,
       "border_right": null,
       "border_top": null,
       "bottom": null,
       "display": null,
       "flex": null,
       "flex_flow": null,
       "grid_area": null,
       "grid_auto_columns": null,
       "grid_auto_flow": null,
       "grid_auto_rows": null,
       "grid_column": null,
       "grid_gap": null,
       "grid_row": null,
       "grid_template_areas": null,
       "grid_template_columns": null,
       "grid_template_rows": null,
       "height": null,
       "justify_content": null,
       "justify_items": null,
       "left": null,
       "margin": null,
       "max_height": null,
       "max_width": null,
       "min_height": null,
       "min_width": null,
       "object_fit": null,
       "object_position": null,
       "order": null,
       "overflow": null,
       "padding": null,
       "right": null,
       "top": null,
       "visibility": null,
       "width": null
      }
     },
     "7c56929b3da3498eb8d1738ec5ea8c43": {
      "model_module": "@jupyter-widgets/controls",
      "model_module_version": "2.0.0",
      "model_name": "HBoxModel",
      "state": {
       "_dom_classes": [],
       "_model_module": "@jupyter-widgets/controls",
       "_model_module_version": "2.0.0",
       "_model_name": "HBoxModel",
       "_view_count": null,
       "_view_module": "@jupyter-widgets/controls",
       "_view_module_version": "2.0.0",
       "_view_name": "HBoxView",
       "box_style": "",
       "children": [
        "IPY_MODEL_2fd5b03df2b441fbafc27be4957ca0c0",
        "IPY_MODEL_1ea1a3d2b5d24b048193c0ba2a53a082",
        "IPY_MODEL_c7ffe080b34441eda765044e052849ed"
       ],
       "layout": "IPY_MODEL_b0308438e17140c1a6248c4c570b4a34",
       "tabbable": null,
       "tooltip": null
      }
     },
     "b0308438e17140c1a6248c4c570b4a34": {
      "model_module": "@jupyter-widgets/base",
      "model_module_version": "2.0.0",
      "model_name": "LayoutModel",
      "state": {
       "_model_module": "@jupyter-widgets/base",
       "_model_module_version": "2.0.0",
       "_model_name": "LayoutModel",
       "_view_count": null,
       "_view_module": "@jupyter-widgets/base",
       "_view_module_version": "2.0.0",
       "_view_name": "LayoutView",
       "align_content": null,
       "align_items": null,
       "align_self": null,
       "border_bottom": null,
       "border_left": null,
       "border_right": null,
       "border_top": null,
       "bottom": null,
       "display": null,
       "flex": null,
       "flex_flow": null,
       "grid_area": null,
       "grid_auto_columns": null,
       "grid_auto_flow": null,
       "grid_auto_rows": null,
       "grid_column": null,
       "grid_gap": null,
       "grid_row": null,
       "grid_template_areas": null,
       "grid_template_columns": null,
       "grid_template_rows": null,
       "height": null,
       "justify_content": null,
       "justify_items": null,
       "left": null,
       "margin": null,
       "max_height": null,
       "max_width": null,
       "min_height": null,
       "min_width": null,
       "object_fit": null,
       "object_position": null,
       "order": null,
       "overflow": null,
       "padding": null,
       "right": null,
       "top": null,
       "visibility": null,
       "width": null
      }
     },
     "c7ffe080b34441eda765044e052849ed": {
      "model_module": "@jupyter-widgets/controls",
      "model_module_version": "2.0.0",
      "model_name": "HTMLModel",
      "state": {
       "_dom_classes": [],
       "_model_module": "@jupyter-widgets/controls",
       "_model_module_version": "2.0.0",
       "_model_name": "HTMLModel",
       "_view_count": null,
       "_view_module": "@jupyter-widgets/controls",
       "_view_module_version": "2.0.0",
       "_view_name": "HTMLView",
       "description": "",
       "description_allow_html": false,
       "layout": "IPY_MODEL_0a778897f5a3448e8d2c7054f22fec68",
       "placeholder": "​",
       "style": "IPY_MODEL_5ee72e6ec7bd4bdfbf5ef61d6e850ed2",
       "tabbable": null,
       "tooltip": null,
       "value": " 500/500 [00:35&lt;00:00, 15.21it/s]"
      }
     }
    },
    "version_major": 2,
    "version_minor": 0
   }
  }
 },
 "nbformat": 4,
 "nbformat_minor": 5
}
