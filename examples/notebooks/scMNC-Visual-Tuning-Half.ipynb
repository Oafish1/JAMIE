{
 "cells": [
  {
   "cell_type": "code",
   "execution_count": 1,
   "id": "a54a4980-d3b7-4664-9035-4abcb92b1ab5",
   "metadata": {
    "tags": []
   },
   "outputs": [],
   "source": [
    "%load_ext autoreload\n",
    "%autoreload 2\n",
    "%matplotlib inline"
   ]
  },
  {
   "cell_type": "code",
   "execution_count": 2,
   "id": "342bee2d-d6d8-49aa-98ba-79a38ade4175",
   "metadata": {
    "tags": []
   },
   "outputs": [
    {
     "name": "stderr",
     "output_type": "stream",
     "text": [
      "2022-12-30 08:04:58.373631: I tensorflow/core/platform/cpu_feature_guard.cc:193] This TensorFlow binary is optimized with oneAPI Deep Neural Network Library (oneDNN) to use the following CPU instructions in performance-critical operations:  AVX2 AVX512F AVX512_VNNI FMA\n",
      "To enable them in other operations, rebuild TensorFlow with the appropriate compiler flags.\n",
      "2022-12-30 08:04:58.455555: I tensorflow/core/util/util.cc:169] oneDNN custom operations are on. You may see slightly different numerical results due to floating-point round-off errors from different computation orders. To turn them off, set the environment variable `TF_ENABLE_ONEDNN_OPTS=0`.\n",
      "2022-12-30 08:04:58.459245: W tensorflow/stream_executor/platform/default/dso_loader.cc:64] Could not load dynamic library 'libcudart.so.11.0'; dlerror: libcudart.so.11.0: cannot open shared object file: No such file or directory\n",
      "2022-12-30 08:04:58.459254: I tensorflow/stream_executor/cuda/cudart_stub.cc:29] Ignore above cudart dlerror if you do not have a GPU set up on your machine.\n",
      "2022-12-30 08:04:58.477177: E tensorflow/stream_executor/cuda/cuda_blas.cc:2981] Unable to register cuBLAS factory: Attempting to register factory for plugin cuBLAS when one has already been registered\n",
      "2022-12-30 08:04:58.864577: W tensorflow/stream_executor/platform/default/dso_loader.cc:64] Could not load dynamic library 'libnvinfer.so.7'; dlerror: libnvinfer.so.7: cannot open shared object file: No such file or directory\n",
      "2022-12-30 08:04:58.864645: W tensorflow/stream_executor/platform/default/dso_loader.cc:64] Could not load dynamic library 'libnvinfer_plugin.so.7'; dlerror: libnvinfer_plugin.so.7: cannot open shared object file: No such file or directory\n",
      "2022-12-30 08:04:58.864650: W tensorflow/compiler/tf2tensorrt/utils/py_utils.cc:38] TF-TRT Warning: Cannot dlopen some TensorRT libraries. If you would like to use Nvidia GPU with TensorRT, please make sure the missing libraries mentioned above are installed properly.\n"
     ]
    },
    {
     "name": "stdout",
     "output_type": "stream",
     "text": [
      "WARNING:tensorflow:From /home/thema/miniconda3/lib/python3.9/site-packages/tensorflow/python/compat/v2_compat.py:107: disable_resource_variables (from tensorflow.python.ops.variable_scope) is deprecated and will be removed in a future version.\n",
      "Instructions for updating:\n",
      "non-resource variables are not supported in the long term\n"
     ]
    }
   ],
   "source": [
    "import os\n",
    "\n",
    "from jamie import JAMIE\n",
    "from jamie.evaluation import *\n",
    "from jamie.utilities import *\n",
    "import matplotlib.pyplot as plt\n",
    "from mmd_wrapper import mmd_combine\n",
    "import numpy as np\n",
    "import pandas as pd\n",
    "import seaborn as sns\n",
    "from sklearn import preprocessing"
   ]
  },
  {
   "cell_type": "code",
   "execution_count": 3,
   "id": "a6f7f25e-92e9-452e-8f48-5ac13b4e6ed8",
   "metadata": {
    "tags": []
   },
   "outputs": [],
   "source": [
    "np.random.seed(42)\n",
    "model_folder = './saved_models/'\n",
    "image_folder = './output_figures/tuning-half/'\n",
    "output_folder = './output_data/'"
   ]
  },
  {
   "cell_type": "code",
   "execution_count": 4,
   "id": "b6206e91-f09d-4d3b-81b1-461ea9c57df2",
   "metadata": {
    "tags": []
   },
   "outputs": [],
   "source": [
    "dataset_name = 'scMNC-Visual'\n",
    "dataset_color = 'magenta'\n",
    "modality_names = ['Gene Expression', 'Electrophysiology']\n",
    "data_folder = '../data/scMNC/mouse_visual_cortex/data/'\n",
    "data1 = pd.read_csv(data_folder + \"geneExp_filtered.csv\")\n",
    "data2 = pd.read_csv(data_folder + \"efeature_filtered.csv\")\n",
    "sample_names1 = data1.columns[1:]\n",
    "sample_names2 = np.array(data2)[:, 0]\n",
    "feature_names1 = data1.iloc[:,0]\n",
    "feature_names2 = data2.columns[3:]\n",
    "assert (sample_names1 == sample_names2).all()\n",
    "data1 = np.transpose(np.array(data1)[:, 1:])\n",
    "data2 = np.array(data2)[:, 3:]\n",
    "meta = pd.read_csv(data_folder + \"20200711_patchseq_metadata_mouse.csv\")\n",
    "meta_names = np.array(meta.columns)\n",
    "meta_sid = np.argwhere(meta_names == 'transcriptomics_sample_id')[0][0]\n",
    "meta_ttype = np.argwhere(meta_names == 't_type')[0][0]\n",
    "meta = np.array(meta)\n",
    "meta_idx = [np.argwhere(meta[:, meta_sid] == sample_names1[i])[0][0] for i in range(sample_names1.shape[0])]\n",
    "type1 = type2 = np.array([x.split(' ')[0] for x in meta[meta_idx, meta_ttype]])\n",
    "\n",
    "# Sampling\n",
    "# split = 1000 # data1.shape[0]\n",
    "# data_col_idx = np.random.choice(range(data1.shape[0]), split, replace=False)\n",
    "# data1, data2, type1, type2 = (x[data_col_idx] for x in (data1, data2, type1, type2))\n",
    "\n",
    "# Labels\n",
    "labels = [type1, type2]\n",
    "features = [np.array(feature_names1), np.array(feature_names2)]\n",
    "feature_dict = {}\n",
    "\n",
    "# Utility\n",
    "positivize = lambda X: [x + x.min() for x in X]\n",
    "minmax = lambda X: [(x + x.min()) for x in X]"
   ]
  },
  {
   "cell_type": "code",
   "execution_count": 5,
   "id": "996d8fba-95bf-4e65-9269-da932ebdecb8",
   "metadata": {
    "tags": []
   },
   "outputs": [],
   "source": [
    "# Preprocessing\n",
    "data1 = preprocessing.scale(data1, axis=0)\n",
    "data2 = preprocessing.scale(data2, axis=0)\n",
    "data1[np.isnan(data1)] = 0  # Replace NaN with average\n",
    "data2[np.isnan(data2)] = 0\n",
    "# data1 = preprocessing.MinMaxScaler().fit_transform(data1)\n",
    "# data2 = preprocessing.MinMaxScaler().fit_transform(data2)\n",
    "dataset = [data1, data2]\n",
    "\n",
    "# Replace NULL feature names\n",
    "for i in range(len(features)):\n",
    "    if features[i] is None:\n",
    "        features[i] = np.array([f'Feature {i}' for i in range(dataset[i].shape[1])])\n",
    "        \n",
    "# Train-Test Imputation\n",
    "train_size = int(.8 * len(data1))\n",
    "train_idx = np.random.choice(range(len(data1)), train_size, replace=False)\n",
    "test_idx = np.array(list(set(range(len(data1))) - set(train_idx)))\n",
    "\n",
    "# Reduced Priors\n",
    "full_priors = np.eye(len(dataset[0]))\n",
    "random_idx = np.random.choice(range(len(dataset[0])), int(.5 * len(dataset[0])), replace=False)\n",
    "priors = np.zeros(len(dataset[0]))\n",
    "priors[random_idx] = 1\n",
    "half_priors = np.diag(priors)\n",
    "random_idx = np.random.choice(range(len(dataset[0])), int(.75 * len(dataset[0])), replace=False)\n",
    "priors = np.zeros(len(dataset[0]))\n",
    "priors[random_idx] = 1\n",
    "tq_priors = np.diag(priors)\n",
    "none_priors = np.zeros((len(dataset[0]), len(dataset[0])))"
   ]
  },
  {
   "cell_type": "code",
   "execution_count": 6,
   "id": "e976c6dc-38f0-4ab0-b132-faf529ed7626",
   "metadata": {
    "tags": []
   },
   "outputs": [],
   "source": [
    "reduced_dim = 32\n",
    "kwargs = {\n",
    "    'output_dim': reduced_dim,\n",
    "    'epoch_DNN': 10000,\n",
    "    'min_epochs': 2500,\n",
    "    'log_DNN': 500,\n",
    "    'use_early_stop': True,\n",
    "    'batch_size': 512,\n",
    "    'pca_dim': 2*[512],\n",
    "    'dist_method': 'euclidean',\n",
    "    'loss_weights': [1,1,1,1],\n",
    "    'dropout': 0,\n",
    "}\n",
    "kwargs_imp = {k: kwargs[k] for k in kwargs if k != 'dropout'}"
   ]
  },
  {
   "cell_type": "code",
   "execution_count": 7,
   "id": "495eef51-49cd-4fc6-80a7-e77545e5ba56",
   "metadata": {
    "tags": []
   },
   "outputs": [],
   "source": [
    "integrated_data = []\n",
    "integrated_names = []\n",
    "colors = []\n",
    "shapes = []"
   ]
  },
  {
   "cell_type": "markdown",
   "id": "d77e98ba-cbba-4ff0-8c76-3a338c9270da",
   "metadata": {},
   "source": [
    "# JAMIE"
   ]
  },
  {
   "cell_type": "code",
   "execution_count": 8,
   "id": "67e7a914-1ca1-4151-bc0b-6047fe7d966c",
   "metadata": {
    "scrolled": true,
    "tags": []
   },
   "outputs": [
    {
     "name": "stdout",
     "output_type": "stream",
     "text": [
      "Loaded model './saved_models/jm_50---scMNC-Visual---3654-1302---3654-39---dropout-0.h5'\n"
     ]
    }
   ],
   "source": [
    "# Integration\n",
    "size_str, hash_str = hash_kwargs(kwargs, dataset_name, dataset)\n",
    "prefix = model_folder + 'jm_50---'\n",
    "model_str = prefix + hash_str + '.h5'\n",
    "match_str = prefix + size_str + '.npy'\n",
    "\n",
    "# Instantiate\n",
    "mr = list(np.load(match_str, allow_pickle=True)) if os.path.exists(match_str) else None\n",
    "jm = JAMIE(**kwargs, match_result=mr, debug=True)\n",
    "\n",
    "# Train\n",
    "if os.path.exists(model_str):\n",
    "    jm.load_model(model_str)\n",
    "    print(f'Loaded model \\'{model_str}\\'')\n",
    "else:\n",
    "    jm_data = jm.fit_transform(dataset=dataset, P=half_priors)\n",
    "    jm.save_model(model_str)\n",
    "    np.save(match_str, jm.match_result, allow_pickle=True)\n",
    "jm_data = jm.transform(dataset=dataset)\n",
    "integrated_data.append(jm_data)\n",
    "integrated_names.append('JAMIE')\n",
    "colors.append('blue')\n",
    "shapes.append('8')"
   ]
  },
  {
   "cell_type": "code",
   "execution_count": 9,
   "id": "badd253e-16e0-444c-bed5-22b7bc8283cf",
   "metadata": {
    "scrolled": true,
    "tags": []
   },
   "outputs": [
    {
     "name": "stdout",
     "output_type": "stream",
     "text": [
      "$\\gamma=0$: [1, 1, 1, 0]\n",
      "Loaded model './saved_models/jm_50---scMNC-Visual---3654-1302---3654-39---dropout-0--loss_weights-(1-1-1-0).h5'\n",
      "\n"
     ]
    }
   ],
   "source": [
    "def run_jamie(kwargs, dataset, idx=None, prior=half_priors, hashName='jm_50---'):\n",
    "    size_str, hash_str = hash_kwargs(kwargs, dataset_name, dataset)\n",
    "    prefix = model_folder + hashName\n",
    "    model_str = prefix + hash_str + '.h5'\n",
    "    match_str = prefix + size_str + '.npy'\n",
    "\n",
    "    # Instantiate\n",
    "    mr = list(np.load(match_str, allow_pickle=True)) if os.path.exists(match_str) else None\n",
    "    jm = JAMIE(**kwargs, match_result=mr, debug=True)\n",
    "\n",
    "    # Train\n",
    "    if os.path.exists(model_str):\n",
    "        jm.load_model(model_str)\n",
    "        print(f'Loaded model \\'{model_str}\\'')\n",
    "    else:\n",
    "        jm_data = jm.fit_transform(dataset=dataset if idx is None else [d[idx] for d in dataset], P=prior)\n",
    "        jm.save_model(model_str)\n",
    "        np.save(match_str, jm.match_result, allow_pickle=True)\n",
    "    jm_data = jm.transform(dataset=dataset)\n",
    "    \n",
    "    return jm, jm_data\n",
    "\n",
    "for i, (name, lw, cl) in enumerate(zip(\n",
    "    ('$\\\\gamma=0$', '$\\\\beta=0$', '$\\\\alpha=0$', '$\\\\kappa=0$'),\n",
    "    ([1,1,1,0],[1,1,0,1],[1,0,1,1],[0,1,1,1]),\n",
    "    ('pink', 'orange', 'green', 'red'),)):\n",
    "    if i != 0:\n",
    "        continue\n",
    "    print(f'{name}: {lw}')\n",
    "    # result = run_jamie({k: kwargs[k] if k != 'loss_weights' else lw for k in kwargs}, half_priors, 'jm_50---')\n",
    "    result = run_jamie({k: kwargs[k] if k != 'loss_weights' else lw for k in kwargs}, dataset)\n",
    "    integrated_data.append(result[1])\n",
    "    integrated_names.append(f'JAMIE ({name})')\n",
    "    colors.append(cl)\n",
    "    shapes.append('o')\n",
    "    print()"
   ]
  },
  {
   "cell_type": "code",
   "execution_count": 10,
   "id": "8af75499-70fd-46fa-8275-3eba35edbeee",
   "metadata": {},
   "outputs": [],
   "source": [
    "# result = run_jamie({k: kwargs[k] if k != 'pca_dim' else 2*[128] for k in kwargs}, dataset)\n",
    "# integrated_data.append(result[1])\n",
    "# integrated_names.append('JAMIE (pca$=128$)')\n",
    "# colors.append('yellow')\n",
    "# shapes.append('s')\n",
    "\n",
    "# result = run_jamie({k: kwargs[k] if k != 'pca_dim' else 2*[32] for k in kwargs}, dataset)\n",
    "# integrated_data.append(result[1])\n",
    "# integrated_names.append('JAMIE (pca$=32$)')\n",
    "# colors.append('purple')\n",
    "# shapes.append('s')\n",
    "\n",
    "# result = run_jamie({k: kwargs[k] if k != 'output_dim' else 16 for k in kwargs}, dataset)\n",
    "# integrated_data.append(result[1])\n",
    "# integrated_names.append('JAMIE ($g=16$)')\n",
    "# colors.append('teal')\n",
    "# shapes.append('*')\n",
    "\n",
    "# result = run_jamie({k: kwargs[k] if k != 'output_dim' else 8 for k in kwargs}, dataset)\n",
    "# integrated_data.append(result[1])\n",
    "# integrated_names.append('JAMIE ($g=8$)')\n",
    "# colors.append('lime')\n",
    "# shapes.append('*')"
   ]
  },
  {
   "cell_type": "code",
   "execution_count": null,
   "id": "aa0b2bd1-3c28-4c8a-a4ee-e082327e245b",
   "metadata": {
    "scrolled": true,
    "tags": []
   },
   "outputs": [
    {
     "name": "stdout",
     "output_type": "stream",
     "text": [
      "use random seed: 666\n",
      "Shape of Raw data\n",
      "Dataset 0: (2923, 1302)\n",
      "Dataset 1: (2923, 39)\n",
      "---------------------------------\n",
      "Train coupled autoencoders\n"
     ]
    },
    {
     "name": "stderr",
     "output_type": "stream",
     "text": [
      "/mnt/c/Users/nck/repos/nmacom/jamie/jamie.py:422: UserWarning: PCA dim must be lower than 39, found 512, adjusting to compensate.\n",
      "  warnings.warn(\n"
     ]
    },
    {
     "name": "stdout",
     "output_type": "stream",
     "text": [
      "Epoch: 100 - KL: 0.0020  Rec: 1.4416  CosSim: 0.0983  F: 0.0031\n",
      "Epoch: 200 - KL: 0.0030  Rec: 1.2969  CosSim: 0.0551  F: 0.0023\n",
      "Epoch: 300 - KL: 0.0077  Rec: 1.2608  CosSim: 0.0456  F: 0.0024\n",
      "Epoch: 400 - KL: 0.0137  Rec: 1.2102  CosSim: 0.0383  F: 0.0020\n",
      "Epoch: 500 - KL: 0.0448  Rec: 1.3324  CosSim: 0.0336  F: 0.0018\n",
      "epoch:[500/10000]: loss:1.320846\n",
      "Epoch: 600 - KL: 0.0261  Rec: 1.1997  CosSim: 0.0274  F: 0.0015\n",
      "Epoch: 700 - KL: 0.0471  Rec: 1.1538  CosSim: 0.0343  F: 0.0016\n",
      "Epoch: 800 - KL: 0.0310  Rec: 1.1404  CosSim: 0.0308  F: 0.0015\n",
      "Epoch: 900 - KL: 0.0720  Rec: 1.1481  CosSim: 0.0336  F: 0.0014\n",
      "Epoch: 1000 - KL: 0.0694  Rec: 1.2650  CosSim: 0.0503  F: 0.0016\n",
      "epoch:[1000/10000]: loss:1.294539\n",
      "Epoch: 1100 - KL: 0.0825  Rec: 1.1344  CosSim: 0.0394  F: 0.0015\n",
      "Epoch: 1200 - KL: 0.0880  Rec: 1.3181  CosSim: 0.0435  F: 0.0016\n",
      "Epoch: 1300 - KL: 0.1130  Rec: 1.1473  CosSim: 0.0426  F: 0.0015\n",
      "Epoch: 1400 - KL: 0.1097  Rec: 1.0955  CosSim: 0.0396  F: 0.0012\n",
      "Epoch: 1500 - KL: 0.1867  Rec: 1.1500  CosSim: 0.0488  F: 0.0014\n",
      "epoch:[1500/10000]: loss:1.416917\n",
      "Epoch: 1600 - KL: 0.1522  Rec: 1.2289  CosSim: 0.0464  F: 0.0012\n",
      "Epoch: 1700 - KL: 0.1885  Rec: 1.2947  CosSim: 0.0535  F: 0.0017\n",
      "Epoch: 1800 - KL: 0.1610  Rec: 1.1538  CosSim: 0.0519  F: 0.0018\n"
     ]
    }
   ],
   "source": [
    "# Imputation\n",
    "size_str, hash_str = hash_kwargs(kwargs_imp, dataset_name, dataset)\n",
    "prefix = model_folder + 'jm_im_50---'\n",
    "model_str = prefix + hash_str + '.h5'\n",
    "match_str = prefix + size_str + '.npy'\n",
    "\n",
    "# Instantiate\n",
    "mr = list(np.load(match_str, allow_pickle=True)) if os.path.exists(match_str) else None\n",
    "jm_im = JAMIE(**kwargs_imp, match_result=mr, debug=True)\n",
    "\n",
    "# Train\n",
    "if os.path.exists(model_str):\n",
    "    jm_im.load_model(model_str)\n",
    "    print(f'Loaded model \\'{model_str}\\'')\n",
    "else:\n",
    "    jm_im.fit_transform(dataset=[d[train_idx] for d in dataset], P=half_priors[train_idx, :][:, train_idx])\n",
    "    jm_im.save_model(model_str)\n",
    "    np.save(match_str, jm_im.match_result, allow_pickle=True)\n",
    "jm_imputed = [jm_im.modal_predict(dataset[i], i) for i in range(1, -1, -1)]"
   ]
  },
  {
   "cell_type": "markdown",
   "id": "22d99220-338d-4c07-8d00-3cea04dfb9db",
   "metadata": {
    "tags": []
   },
   "source": [
    "# Comparison Methods"
   ]
  },
  {
   "cell_type": "code",
   "execution_count": null,
   "id": "223e0410-1566-40bb-a4af-a239ce2d534f",
   "metadata": {
    "tags": []
   },
   "outputs": [],
   "source": [
    "# Imputation\n",
    "if False:\n",
    "    imputation_name = 'Babel'\n",
    "else:\n",
    "    imputation_name = 'KNN'\n",
    "    nn_imputed = [predict_knn(torch.tensor(dataset[i][train_idx]).float(), torch.tensor(dataset[(i+1)%2][train_idx]).float(), torch.tensor(dataset[i]).float()) for i in range(1, -1, -1)]\n",
    "imputed_data_full = [jm_imputed, nn_imputed][::-1]\n",
    "imputed_data = [[d[test_idx] for d in ds] for ds in imputed_data_full]\n",
    "imputed_names = ['JAMIE (.5)', imputation_name][::-1]"
   ]
  },
  {
   "cell_type": "markdown",
   "id": "68ae5533-a8ae-4d74-aa86-4d17c4df66d3",
   "metadata": {
    "tags": []
   },
   "source": [
    "# Visualization"
   ]
  },
  {
   "cell_type": "code",
   "execution_count": null,
   "id": "4fa19bcc-b80a-4b83-9c30-5e650c7b08f7",
   "metadata": {
    "tags": []
   },
   "outputs": [],
   "source": [
    "style='white'\n",
    "sns.set(style=style)\n",
    "plt.rcParams.update({'font.weight': 'normal',\n",
    "                     'font.size': 18,\n",
    "                     'axes.titlesize': 'large',\n",
    "                     'axes.labelsize': 'large',\n",
    "                     'xtick.labelsize': 'small',\n",
    "                     'ytick.labelsize': 'small'})"
   ]
  },
  {
   "cell_type": "code",
   "execution_count": null,
   "id": "a53abb3d-ec8f-4ea4-8265-f50f6febe527",
   "metadata": {
    "tags": []
   },
   "outputs": [],
   "source": [
    "%%capture\n",
    "from matplotlib.patches import Patch\n",
    "from matplotlib.lines import Line2D\n",
    "\n",
    "algorithm_elements = [Line2D([0], [0], marker='s', color='w', markerfacecolor=c, label=n, markersize=10) for n, c in zip(integrated_names, colors)]\n",
    "label_elements = [Line2D([0], [0], marker='o', color='w', markerfacecolor=plt.rcParams['axes.prop_cycle'].by_key()['color'][i], label=l, markersize=10) for i, l in enumerate(np.unique(labels))]\n",
    "\n",
    "# https://stackoverflow.com/a/47749903\n",
    "fig, ax = plt.subplots()\n",
    "legend = ax.legend(handles=label_elements, loc='center', frameon=False, ncol=min(len(label_elements), 4))\n",
    "legend.figure.canvas.draw()\n",
    "bbox = legend.get_window_extent().transformed(fig.dpi_scale_trans.inverted())\n",
    "plt.axis('off')\n",
    "plt.savefig(image_folder + dataset_name + '-LabelLegend.png', bbox_inches=bbox, dpi=300)\n",
    "\n",
    "fig, ax = plt.subplots()\n",
    "legend = ax.legend(handles=algorithm_elements, loc='center', frameon=False)\n",
    "legend.figure.canvas.draw()\n",
    "bbox = legend.get_window_extent().transformed(fig.dpi_scale_trans.inverted())\n",
    "plt.axis('off')\n",
    "plt.savefig(image_folder + dataset_name + '-AlgorithmLegend.png', bbox_inches=bbox, dpi=300)"
   ]
  },
  {
   "cell_type": "code",
   "execution_count": null,
   "id": "576cd65b-1244-4041-9131-bcf0e9438a06",
   "metadata": {
    "tags": []
   },
   "outputs": [],
   "source": [
    "from IPython.display import display, Image\n",
    "display( Image(filename=image_folder + dataset_name + '-LabelLegend.png', width=400) )\n",
    "display( Image(filename=image_folder + dataset_name + '-AlgorithmLegend.png', width=100) )"
   ]
  },
  {
   "cell_type": "code",
   "execution_count": null,
   "id": "b4723da3-6312-4ebf-af0c-99ea531a9fe7",
   "metadata": {
    "tags": []
   },
   "outputs": [],
   "source": [
    "fig = plt.figure(figsize=(10, 5))\n",
    "plot_regular(dataset, labels, modality_names)\n",
    "plt.tight_layout()\n",
    "plt.savefig(image_folder + dataset_name + '-Data.png', dpi=300, bbox_inches='tight')"
   ]
  },
  {
   "cell_type": "code",
   "execution_count": null,
   "id": "400954e4-0a78-4238-a0ce-e420e5716b2c",
   "metadata": {
    "tags": []
   },
   "outputs": [],
   "source": [
    "for d, n in zip(integrated_data, integrated_names):\n",
    "    fig = plt.figure(figsize=(10, 5))\n",
    "    plot_integrated(d, labels, [f'{n} - ' + mn for mn in modality_names])\n",
    "    plt.tight_layout()\n",
    "    plt.savefig(image_folder + dataset_name + f'-{n}.png', dpi=300, bbox_inches='tight')\n",
    "    plt.show()"
   ]
  },
  {
   "cell_type": "code",
   "execution_count": null,
   "id": "bb580074-eada-41ae-8af1-2ff87dbf1e61",
   "metadata": {
    "tags": []
   },
   "outputs": [],
   "source": [
    "plt.figure(figsize=(5, 5))\n",
    "plot_accuracy_graph(integrated_data, labels, integrated_names, colors=colors, shapes=shapes)\n",
    "plt.savefig(image_folder + dataset_name + '-AccWeight.png', dpi=300, bbox_inches='tight')"
   ]
  },
  {
   "cell_type": "code",
   "execution_count": null,
   "id": "a00ac27a-86ef-4f48-8682-d0ea87e8e40d",
   "metadata": {
    "tags": []
   },
   "outputs": [],
   "source": [
    "# plt.figure(figsize=(15, 5))\n",
    "# plot_silhouette([[d[0]] for d in integrated_data], [labels[0]], integrated_names, modality_names[:1], colors=colors)\n",
    "# sns.despine()\n",
    "# plt.tight_layout()\n",
    "# plt.savefig(image_folder + dataset_name + '-Sil.png', dpi=300, bbox_inches='tight')"
   ]
  },
  {
   "cell_type": "code",
   "execution_count": null,
   "id": "5d1deee8-2f30-4a5f-99a9-2337433d9509",
   "metadata": {
    "tags": []
   },
   "outputs": [],
   "source": [
    "plt.figure(figsize=(10, 5))\n",
    "plot_auroc_correlation(imputed_data, [data1[test_idx], data2[test_idx]], modality_names, index=0, names=imputed_names)\n",
    "plt.tight_layout()\n",
    "plt.savefig(image_folder + dataset_name + '-Imp1.png', dpi=300, bbox_inches='tight')"
   ]
  },
  {
   "cell_type": "code",
   "execution_count": null,
   "id": "fd898d6e-e302-4f3d-acea-e15caf0ba04d",
   "metadata": {
    "tags": []
   },
   "outputs": [],
   "source": [
    "plt.figure(figsize=(10, 5))\n",
    "plot_auroc_correlation(imputed_data, [data1[test_idx], data2[test_idx]], modality_names, index=1, names=imputed_names)\n",
    "plt.tight_layout()\n",
    "plt.savefig(image_folder + dataset_name + '-Imp2.png', dpi=300, bbox_inches='tight')"
   ]
  },
  {
   "cell_type": "code",
   "execution_count": null,
   "id": "16e37010-7ce5-40a2-96b5-80a04e698f95",
   "metadata": {
    "tags": []
   },
   "outputs": [],
   "source": [
    "plt.figure(figsize=(10, 5))\n",
    "plot_distribution_alone([dataset[0][test_idx], jm_imputed[0][test_idx]], 2*[labels[0][test_idx]], title=modality_names[0], fnames=2*[features[0]], feature_dict=feature_dict)\n",
    "sns.despine()\n",
    "plt.savefig(image_folder + dataset_name + '-Dist1.png', dpi=300, bbox_inches='tight')"
   ]
  },
  {
   "cell_type": "code",
   "execution_count": null,
   "id": "e610d561-8876-457a-b160-6567211453fc",
   "metadata": {
    "tags": []
   },
   "outputs": [],
   "source": [
    "plt.figure(figsize=(10, 5))\n",
    "plot_distribution_alone([dataset[1], jm_imputed[1]], 2*[labels[1]], title=modality_names[1], fnames=2*[features[1]], feature_dict=feature_dict, remove_outliers=False)\n",
    "sns.despine()\n",
    "plt.savefig(image_folder + dataset_name + '-Dist2.png', dpi=300, bbox_inches='tight')"
   ]
  },
  {
   "cell_type": "code",
   "execution_count": null,
   "id": "c71b6fea-6c01-419c-847c-ffb276a14b29",
   "metadata": {
    "tags": []
   },
   "outputs": [],
   "source": [
    "plt.figure(figsize=(5, 5))\n",
    "plot_distribution_similarity([dataset[0][test_idx], jm_imputed[0][test_idx]], 2*[labels[0][test_idx]], title=modality_names[0], fnames=2*[features[0]])\n",
    "sns.despine()\n",
    "plt.tight_layout()\n",
    "plt.savefig(image_folder + dataset_name + '-Sim1.png', dpi=300, bbox_inches='tight')"
   ]
  },
  {
   "cell_type": "code",
   "execution_count": null,
   "id": "283c562f-0ae9-4de1-af2c-a178e095a8e0",
   "metadata": {
    "tags": []
   },
   "outputs": [],
   "source": [
    "plt.figure(figsize=(5, 5))\n",
    "plot_distribution_similarity([dataset[1][test_idx], jm_imputed[1][test_idx]], 2*[labels[1][test_idx]], title=modality_names[1], fnames=2*[features[1]])\n",
    "sns.despine()\n",
    "plt.tight_layout()\n",
    "plt.savefig(image_folder + dataset_name + '-Sim2.png', dpi=300, bbox_inches='tight')"
   ]
  }
 ],
 "metadata": {
  "kernelspec": {
   "display_name": "Python 3 (ipykernel)",
   "language": "python",
   "name": "python3"
  },
  "language_info": {
   "codemirror_mode": {
    "name": "ipython",
    "version": 3
   },
   "file_extension": ".py",
   "mimetype": "text/x-python",
   "name": "python",
   "nbconvert_exporter": "python",
   "pygments_lexer": "ipython3",
   "version": "3.9.5"
  },
  "widgets": {
   "application/vnd.jupyter.widget-state+json": {
    "state": {
     "068ab10e55f04004ac32deed9c92f560": {
      "model_module": "@jupyter-widgets/controls",
      "model_module_version": "2.0.0",
      "model_name": "HTMLModel",
      "state": {
       "_dom_classes": [],
       "_model_module": "@jupyter-widgets/controls",
       "_model_module_version": "2.0.0",
       "_model_name": "HTMLModel",
       "_view_count": null,
       "_view_module": "@jupyter-widgets/controls",
       "_view_module_version": "2.0.0",
       "_view_name": "HTMLView",
       "description": "",
       "description_allow_html": false,
       "layout": "IPY_MODEL_e2331f54a2284f3784807f3bfabfaeaa",
       "placeholder": "​",
       "style": "IPY_MODEL_94e3928a288e48588e1b088a43685788",
       "tabbable": null,
       "tooltip": null,
       "value": " 500/500 [00:37&lt;00:00, 13.65it/s]"
      }
     },
     "091c6290c2cc49fc816a9cc517462bd5": {
      "model_module": "@jupyter-widgets/controls",
      "model_module_version": "2.0.0",
      "model_name": "HBoxModel",
      "state": {
       "_dom_classes": [],
       "_model_module": "@jupyter-widgets/controls",
       "_model_module_version": "2.0.0",
       "_model_name": "HBoxModel",
       "_view_count": null,
       "_view_module": "@jupyter-widgets/controls",
       "_view_module_version": "2.0.0",
       "_view_name": "HBoxView",
       "box_style": "",
       "children": [
        "IPY_MODEL_aa3ab1fce6b64102836cda81a8b54dbb",
        "IPY_MODEL_d7df1df009af4c90b415b37a80ec7bba",
        "IPY_MODEL_068ab10e55f04004ac32deed9c92f560"
       ],
       "layout": "IPY_MODEL_c8c53bdd3745489ca0198681fd828619",
       "tabbable": null,
       "tooltip": null
      }
     },
     "519a993ec5224a629aff1440cfce7e8e": {
      "model_module": "@jupyter-widgets/base",
      "model_module_version": "2.0.0",
      "model_name": "LayoutModel",
      "state": {
       "_model_module": "@jupyter-widgets/base",
       "_model_module_version": "2.0.0",
       "_model_name": "LayoutModel",
       "_view_count": null,
       "_view_module": "@jupyter-widgets/base",
       "_view_module_version": "2.0.0",
       "_view_name": "LayoutView",
       "align_content": null,
       "align_items": null,
       "align_self": null,
       "border_bottom": null,
       "border_left": null,
       "border_right": null,
       "border_top": null,
       "bottom": null,
       "display": null,
       "flex": null,
       "flex_flow": null,
       "grid_area": null,
       "grid_auto_columns": null,
       "grid_auto_flow": null,
       "grid_auto_rows": null,
       "grid_column": null,
       "grid_gap": null,
       "grid_row": null,
       "grid_template_areas": null,
       "grid_template_columns": null,
       "grid_template_rows": null,
       "height": null,
       "justify_content": null,
       "justify_items": null,
       "left": null,
       "margin": null,
       "max_height": null,
       "max_width": null,
       "min_height": null,
       "min_width": null,
       "object_fit": null,
       "object_position": null,
       "order": null,
       "overflow": null,
       "padding": null,
       "right": null,
       "top": null,
       "visibility": null,
       "width": null
      }
     },
     "687dd8e01a514c6284a6cae8a4c4f8b4": {
      "model_module": "@jupyter-widgets/base",
      "model_module_version": "2.0.0",
      "model_name": "LayoutModel",
      "state": {
       "_model_module": "@jupyter-widgets/base",
       "_model_module_version": "2.0.0",
       "_model_name": "LayoutModel",
       "_view_count": null,
       "_view_module": "@jupyter-widgets/base",
       "_view_module_version": "2.0.0",
       "_view_name": "LayoutView",
       "align_content": null,
       "align_items": null,
       "align_self": null,
       "border_bottom": null,
       "border_left": null,
       "border_right": null,
       "border_top": null,
       "bottom": null,
       "display": null,
       "flex": null,
       "flex_flow": null,
       "grid_area": null,
       "grid_auto_columns": null,
       "grid_auto_flow": null,
       "grid_auto_rows": null,
       "grid_column": null,
       "grid_gap": null,
       "grid_row": null,
       "grid_template_areas": null,
       "grid_template_columns": null,
       "grid_template_rows": null,
       "height": null,
       "justify_content": null,
       "justify_items": null,
       "left": null,
       "margin": null,
       "max_height": null,
       "max_width": null,
       "min_height": null,
       "min_width": null,
       "object_fit": null,
       "object_position": null,
       "order": null,
       "overflow": null,
       "padding": null,
       "right": null,
       "top": null,
       "visibility": null,
       "width": null
      }
     },
     "8209866b5fb044f7aa07f549014db263": {
      "model_module": "@jupyter-widgets/controls",
      "model_module_version": "2.0.0",
      "model_name": "HTMLStyleModel",
      "state": {
       "_model_module": "@jupyter-widgets/controls",
       "_model_module_version": "2.0.0",
       "_model_name": "HTMLStyleModel",
       "_view_count": null,
       "_view_module": "@jupyter-widgets/base",
       "_view_module_version": "2.0.0",
       "_view_name": "StyleView",
       "background": null,
       "description_width": "",
       "font_size": null,
       "text_color": null
      }
     },
     "94e3928a288e48588e1b088a43685788": {
      "model_module": "@jupyter-widgets/controls",
      "model_module_version": "2.0.0",
      "model_name": "HTMLStyleModel",
      "state": {
       "_model_module": "@jupyter-widgets/controls",
       "_model_module_version": "2.0.0",
       "_model_name": "HTMLStyleModel",
       "_view_count": null,
       "_view_module": "@jupyter-widgets/base",
       "_view_module_version": "2.0.0",
       "_view_name": "StyleView",
       "background": null,
       "description_width": "",
       "font_size": null,
       "text_color": null
      }
     },
     "aa3ab1fce6b64102836cda81a8b54dbb": {
      "model_module": "@jupyter-widgets/controls",
      "model_module_version": "2.0.0",
      "model_name": "HTMLModel",
      "state": {
       "_dom_classes": [],
       "_model_module": "@jupyter-widgets/controls",
       "_model_module_version": "2.0.0",
       "_model_name": "HTMLModel",
       "_view_count": null,
       "_view_module": "@jupyter-widgets/controls",
       "_view_module_version": "2.0.0",
       "_view_name": "HTMLView",
       "description": "",
       "description_allow_html": false,
       "layout": "IPY_MODEL_687dd8e01a514c6284a6cae8a4c4f8b4",
       "placeholder": "​",
       "style": "IPY_MODEL_8209866b5fb044f7aa07f549014db263",
       "tabbable": null,
       "tooltip": null,
       "value": "100%"
      }
     },
     "c8c53bdd3745489ca0198681fd828619": {
      "model_module": "@jupyter-widgets/base",
      "model_module_version": "2.0.0",
      "model_name": "LayoutModel",
      "state": {
       "_model_module": "@jupyter-widgets/base",
       "_model_module_version": "2.0.0",
       "_model_name": "LayoutModel",
       "_view_count": null,
       "_view_module": "@jupyter-widgets/base",
       "_view_module_version": "2.0.0",
       "_view_name": "LayoutView",
       "align_content": null,
       "align_items": null,
       "align_self": null,
       "border_bottom": null,
       "border_left": null,
       "border_right": null,
       "border_top": null,
       "bottom": null,
       "display": null,
       "flex": null,
       "flex_flow": null,
       "grid_area": null,
       "grid_auto_columns": null,
       "grid_auto_flow": null,
       "grid_auto_rows": null,
       "grid_column": null,
       "grid_gap": null,
       "grid_row": null,
       "grid_template_areas": null,
       "grid_template_columns": null,
       "grid_template_rows": null,
       "height": null,
       "justify_content": null,
       "justify_items": null,
       "left": null,
       "margin": null,
       "max_height": null,
       "max_width": null,
       "min_height": null,
       "min_width": null,
       "object_fit": null,
       "object_position": null,
       "order": null,
       "overflow": null,
       "padding": null,
       "right": null,
       "top": null,
       "visibility": null,
       "width": null
      }
     },
     "ccd2ad01b347423eb536cb6181b00f60": {
      "model_module": "@jupyter-widgets/controls",
      "model_module_version": "2.0.0",
      "model_name": "ProgressStyleModel",
      "state": {
       "_model_module": "@jupyter-widgets/controls",
       "_model_module_version": "2.0.0",
       "_model_name": "ProgressStyleModel",
       "_view_count": null,
       "_view_module": "@jupyter-widgets/base",
       "_view_module_version": "2.0.0",
       "_view_name": "StyleView",
       "bar_color": null,
       "description_width": ""
      }
     },
     "d7df1df009af4c90b415b37a80ec7bba": {
      "model_module": "@jupyter-widgets/controls",
      "model_module_version": "2.0.0",
      "model_name": "FloatProgressModel",
      "state": {
       "_dom_classes": [],
       "_model_module": "@jupyter-widgets/controls",
       "_model_module_version": "2.0.0",
       "_model_name": "FloatProgressModel",
       "_view_count": null,
       "_view_module": "@jupyter-widgets/controls",
       "_view_module_version": "2.0.0",
       "_view_name": "ProgressView",
       "bar_style": "success",
       "description": "",
       "description_allow_html": false,
       "layout": "IPY_MODEL_519a993ec5224a629aff1440cfce7e8e",
       "max": 500,
       "min": 0,
       "orientation": "horizontal",
       "style": "IPY_MODEL_ccd2ad01b347423eb536cb6181b00f60",
       "tabbable": null,
       "tooltip": null,
       "value": 500
      }
     },
     "e2331f54a2284f3784807f3bfabfaeaa": {
      "model_module": "@jupyter-widgets/base",
      "model_module_version": "2.0.0",
      "model_name": "LayoutModel",
      "state": {
       "_model_module": "@jupyter-widgets/base",
       "_model_module_version": "2.0.0",
       "_model_name": "LayoutModel",
       "_view_count": null,
       "_view_module": "@jupyter-widgets/base",
       "_view_module_version": "2.0.0",
       "_view_name": "LayoutView",
       "align_content": null,
       "align_items": null,
       "align_self": null,
       "border_bottom": null,
       "border_left": null,
       "border_right": null,
       "border_top": null,
       "bottom": null,
       "display": null,
       "flex": null,
       "flex_flow": null,
       "grid_area": null,
       "grid_auto_columns": null,
       "grid_auto_flow": null,
       "grid_auto_rows": null,
       "grid_column": null,
       "grid_gap": null,
       "grid_row": null,
       "grid_template_areas": null,
       "grid_template_columns": null,
       "grid_template_rows": null,
       "height": null,
       "justify_content": null,
       "justify_items": null,
       "left": null,
       "margin": null,
       "max_height": null,
       "max_width": null,
       "min_height": null,
       "min_width": null,
       "object_fit": null,
       "object_position": null,
       "order": null,
       "overflow": null,
       "padding": null,
       "right": null,
       "top": null,
       "visibility": null,
       "width": null
      }
     }
    },
    "version_major": 2,
    "version_minor": 0
   }
  }
 },
 "nbformat": 4,
 "nbformat_minor": 5
}
